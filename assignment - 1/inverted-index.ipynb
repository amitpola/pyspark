{
 "cells": [
  {
   "cell_type": "code",
   "execution_count": 1,
   "metadata": {},
   "outputs": [],
   "source": [
    "import time\n",
    "\n",
    "import findspark\n",
    "findspark.init()\n",
    "\n",
    "from pyspark.sql import SparkSession\n",
    "\n",
    "spark = SparkSession.builder.master(\"local[1]\").appName('inverted-index').getOrCreate()\n"
   ]
  },
  {
   "cell_type": "code",
   "execution_count": 2,
   "metadata": {},
   "outputs": [],
   "source": [
    "rdd = spark.sparkContext.textFile('wikipedia.dat')"
   ]
  },
  {
   "cell_type": "code",
   "execution_count": 3,
   "metadata": {},
   "outputs": [],
   "source": [
    "search_words = ['JavaScript','Java','PHP','Python','C#','C++','Ruby','CSS','C','Objective-C','Shell','R','Pearl','Scala',\n",
    "                'Go','Haskell','Swift','Matlab','Visual Basic','Clojure','Groovy']\n",
    "\n",
    "search_words_lower = ['javascript','java','php','python','c#','c++','ruby','css','c','objective-c','shell','r','pearl','scala',\n",
    "                'haskell','swift','matlab','visual basic','clojure','groovy']\n",
    "\n",
    "lang_rdd = rdd.flatMap(lambda x: x.split(\" \")).filter(lambda word: word in search_words).map(lambda word: (word,1))\n",
    "\n",
    "lang_rdd_1 = rdd.flatMap(lambda x: x.split(\" \")).filter(lambda word: word in search_words_lower).map(lambda word: (word,1))"
   ]
  },
  {
   "cell_type": "code",
   "execution_count": 4,
   "metadata": {},
   "outputs": [
    {
     "name": "stdout",
     "output_type": "stream",
     "text": [
      "0.21964478492736816\n"
     ]
    }
   ],
   "source": [
    "start = time.time()\n",
    "\n",
    "occurences_rdd = lang_rdd.groupByKey().mapValues(lambda x: sum(x))\n",
    "\n",
    "occurences_rdd_lower = lang_rdd_1.groupByKey().mapValues(lambda x: sum(x))\n",
    "\n",
    "print(time.time() - start)\n",
    "\n",
    "# occurences_rdd.collect()"
   ]
  },
  {
   "cell_type": "code",
   "execution_count": 5,
   "metadata": {},
   "outputs": [],
   "source": [
    "occurrences_rdd_lower_2 = occurences_rdd.map(lambda x: (x[0].lower(),x[1]))"
   ]
  },
  {
   "cell_type": "code",
   "execution_count": 6,
   "metadata": {},
   "outputs": [],
   "source": [
    "join_rdd = occurrences_rdd_lower_2.join(occurences_rdd_lower)"
   ]
  },
  {
   "cell_type": "code",
   "execution_count": 7,
   "metadata": {},
   "outputs": [
    {
     "data": {
      "text/plain": [
       "[('php', (806, 76)),\n",
       " ('scala', (80, 1)),\n",
       " ('pearl', (20, 3)),\n",
       " ('python', (740, 95)),\n",
       " ('javascript', (4303, 887)),\n",
       " ('ruby', (322, 7)),\n",
       " ('java', (2553, 117)),\n",
       " ('r', (453, 235)),\n",
       " ('css', (1891, 332)),\n",
       " ('matlab', (99, 25)),\n",
       " ('groovy', (32, 3)),\n",
       " ('shell', (70, 238)),\n",
       " ('c', (1754, 358)),\n",
       " ('haskell', (140, 7)),\n",
       " ('swift', (46, 30)),\n",
       " ('c++', (1250, 5)),\n",
       " ('objective-c', (344, 4)),\n",
       " ('c#', (1650, 16))]"
      ]
     },
     "execution_count": 7,
     "metadata": {},
     "output_type": "execute_result"
    }
   ],
   "source": [
    "join_rdd.collect()"
   ]
  },
  {
   "cell_type": "code",
   "execution_count": 8,
   "metadata": {},
   "outputs": [],
   "source": [
    "result_rdd = join_rdd.mapValues(lambda x: sum([i for i in x if i is not None]))"
   ]
  },
  {
   "cell_type": "code",
   "execution_count": 9,
   "metadata": {},
   "outputs": [],
   "source": [
    "sort_rdd = result_rdd.map(lambda x: (x[1],x[0])).sortByKey(ascending=False)\n"
   ]
  },
  {
   "cell_type": "code",
   "execution_count": 10,
   "metadata": {},
   "outputs": [],
   "source": [
    "df_rdd = sort_rdd.map(lambda x: (x[1],x[0])).toDF([\"Programing Language\",\"Occurences\"])"
   ]
  },
  {
   "cell_type": "code",
   "execution_count": 11,
   "metadata": {},
   "outputs": [
    {
     "name": "stdout",
     "output_type": "stream",
     "text": [
      "+-------------------+----------+\n",
      "|Programing Language|Occurences|\n",
      "+-------------------+----------+\n",
      "|         javascript|      5190|\n",
      "|               java|      2670|\n",
      "|                css|      2223|\n",
      "|                  c|      2112|\n",
      "|                 c#|      1666|\n",
      "|                c++|      1255|\n",
      "|                php|       882|\n",
      "|             python|       835|\n",
      "|                  r|       688|\n",
      "|        objective-c|       348|\n",
      "|               ruby|       329|\n",
      "|              shell|       308|\n",
      "|            haskell|       147|\n",
      "|             matlab|       124|\n",
      "|              scala|        81|\n",
      "|              swift|        76|\n",
      "|             groovy|        35|\n",
      "|              pearl|        23|\n",
      "+-------------------+----------+\n",
      "\n"
     ]
    }
   ],
   "source": [
    "df_rdd.show()"
   ]
  },
  {
   "cell_type": "code",
   "execution_count": null,
   "metadata": {},
   "outputs": [],
   "source": []
  }
 ],
 "metadata": {
  "kernelspec": {
   "display_name": "Python 3",
   "language": "python",
   "name": "python3"
  },
  "language_info": {
   "codemirror_mode": {
    "name": "ipython",
    "version": 3
   },
   "file_extension": ".py",
   "mimetype": "text/x-python",
   "name": "python",
   "nbconvert_exporter": "python",
   "pygments_lexer": "ipython3",
   "version": "3.9.0"
  },
  "orig_nbformat": 4
 },
 "nbformat": 4,
 "nbformat_minor": 2
}

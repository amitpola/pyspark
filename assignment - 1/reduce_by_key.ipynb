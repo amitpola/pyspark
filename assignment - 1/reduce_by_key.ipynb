{
 "cells": [
  {
   "cell_type": "code",
   "execution_count": 1,
   "metadata": {},
   "outputs": [],
   "source": [
    "import time\n",
    "import findspark\n",
    "findspark.init()"
   ]
  },
  {
   "cell_type": "code",
   "execution_count": 2,
   "metadata": {},
   "outputs": [],
   "source": [
    "from pyspark.sql import SparkSession\n",
    "\n",
    "spark = SparkSession.builder.master(\"local[1]\").appName('assignment-1').getOrCreate()"
   ]
  },
  {
   "cell_type": "code",
   "execution_count": 3,
   "metadata": {},
   "outputs": [],
   "source": [
    "rdd = spark.sparkContext.textFile('wikipedia.dat')"
   ]
  },
  {
   "cell_type": "code",
   "execution_count": 4,
   "metadata": {},
   "outputs": [],
   "source": [
    "search_words = ['JavaScript','Java','PHP','Python','C#','C++','Ruby','CSS','C','Objective-C','Shell','R','Pearl','Scala',\n",
    "                'Go','Haskell','Swift','Matlab','Visual Basic','Clojure','Groovy']\n",
    "\n",
    "search_words_lower = ['javascript','java','php','python','c#','c++','ruby','css','c','objective-c','shell','r','pearl','scala',\n",
    "                'haskell','swift','matlab','visual basic','clojure','groovy']\n",
    "\n",
    "\n",
    "\n",
    "occurrences_rdd = rdd.flatMap(lambda line: line.split(\" \")).filter(lambda word: word in search_words).map(lambda word: (word, 1))\n",
    "occurrences_rdd_lower_1 = rdd.flatMap(lambda line: line.split(\" \")).filter(lambda word: word in search_words_lower).map(lambda word: (word, 1)).reduceByKey(lambda a, b: a + b)\n",
    "\n"
   ]
  },
  {
   "cell_type": "code",
   "execution_count": 5,
   "metadata": {},
   "outputs": [
    {
     "name": "stdout",
     "output_type": "stream",
     "text": [
      "0.03999805450439453\n"
     ]
    }
   ],
   "source": [
    "start = time.time()\n",
    "\n",
    "occurrences_rdd = occurrences_rdd.reduceByKey(lambda a, b: a + b)\n",
    "occurrences_rdd_lower_1 = occurrences_rdd_lower_1.reduceByKey(lambda a, b: a + b)\n",
    "\n",
    "print(time.time() - start)"
   ]
  },
  {
   "cell_type": "code",
   "execution_count": 6,
   "metadata": {},
   "outputs": [],
   "source": [
    "occurrences_rdd_lower_2 = occurrences_rdd.map(lambda x: (x[0].lower(),x[1]))"
   ]
  },
  {
   "cell_type": "code",
   "execution_count": 7,
   "metadata": {},
   "outputs": [],
   "source": [
    "final_rdd = occurrences_rdd_lower_2.join(occurrences_rdd_lower_1)"
   ]
  },
  {
   "cell_type": "code",
   "execution_count": 8,
   "metadata": {},
   "outputs": [],
   "source": [
    "result_rdd = final_rdd.mapValues(lambda x: sum([i for i in x if i is not None]))"
   ]
  },
  {
   "cell_type": "code",
   "execution_count": 9,
   "metadata": {},
   "outputs": [
    {
     "data": {
      "text/plain": [
       "[(5190, 'javascript'),\n",
       " (2670, 'java'),\n",
       " (2223, 'css'),\n",
       " (2112, 'c'),\n",
       " (1666, 'c#'),\n",
       " (1255, 'c++'),\n",
       " (882, 'php'),\n",
       " (835, 'python'),\n",
       " (688, 'r'),\n",
       " (348, 'objective-c'),\n",
       " (329, 'ruby'),\n",
       " (308, 'shell'),\n",
       " (147, 'haskell'),\n",
       " (124, 'matlab'),\n",
       " (81, 'scala'),\n",
       " (76, 'swift'),\n",
       " (35, 'groovy'),\n",
       " (23, 'pearl')]"
      ]
     },
     "execution_count": 9,
     "metadata": {},
     "output_type": "execute_result"
    }
   ],
   "source": [
    "sort_rdd = result_rdd.map(lambda x: (x[1],x[0])).sortByKey(ascending=False)\n",
    "sort_rdd.collect()"
   ]
  },
  {
   "cell_type": "code",
   "execution_count": 10,
   "metadata": {},
   "outputs": [],
   "source": [
    "df_rdd = sort_rdd.map(lambda x: (x[1],x[0])).toDF([\"Programing Language\",\"Occurences\"])"
   ]
  },
  {
   "cell_type": "code",
   "execution_count": 11,
   "metadata": {},
   "outputs": [
    {
     "name": "stdout",
     "output_type": "stream",
     "text": [
      "+-------------------+----------+\n",
      "|Programing Language|Occurences|\n",
      "+-------------------+----------+\n",
      "|         javascript|      5190|\n",
      "|               java|      2670|\n",
      "|                css|      2223|\n",
      "|                  c|      2112|\n",
      "|                 c#|      1666|\n",
      "|                c++|      1255|\n",
      "|                php|       882|\n",
      "|             python|       835|\n",
      "|                  r|       688|\n",
      "|        objective-c|       348|\n",
      "|               ruby|       329|\n",
      "|              shell|       308|\n",
      "|            haskell|       147|\n",
      "|             matlab|       124|\n",
      "|              scala|        81|\n",
      "|              swift|        76|\n",
      "|             groovy|        35|\n",
      "|              pearl|        23|\n",
      "+-------------------+----------+\n",
      "\n"
     ]
    }
   ],
   "source": [
    "df_rdd.show()"
   ]
  },
  {
   "cell_type": "code",
   "execution_count": null,
   "metadata": {},
   "outputs": [],
   "source": []
  }
 ],
 "metadata": {
  "kernelspec": {
   "display_name": "Python 3",
   "language": "python",
   "name": "python3"
  },
  "language_info": {
   "codemirror_mode": {
    "name": "ipython",
    "version": 3
   },
   "file_extension": ".py",
   "mimetype": "text/x-python",
   "name": "python",
   "nbconvert_exporter": "python",
   "pygments_lexer": "ipython3",
   "version": "3.9.0"
  },
  "orig_nbformat": 4
 },
 "nbformat": 4,
 "nbformat_minor": 2
}

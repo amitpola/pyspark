{
 "cells": [
  {
   "cell_type": "code",
   "execution_count": null,
   "metadata": {},
   "outputs": [],
   "source": [
    "import findspark\n",
    "findspark.init()"
   ]
  },
  {
   "cell_type": "code",
   "execution_count": null,
   "metadata": {},
   "outputs": [],
   "source": [
    "from pyspark.sql import SparkSession\n",
    "\n",
    "spark = SparkSession.builder.master(\"local[1]\").appName('assignment-1').getOrCreate()"
   ]
  },
  {
   "cell_type": "code",
   "execution_count": null,
   "metadata": {},
   "outputs": [],
   "source": [
    "rdd = spark.sparkContext.textFile('wikipedia.dat')"
   ]
  },
  {
   "cell_type": "code",
   "execution_count": null,
   "metadata": {},
   "outputs": [],
   "source": [
    "search_words = ['JavaScript','Java','PHP','Python','C#','C++','Ruby','CSS','C','Objective-C','Shell','R','Pearl','Scala',\n",
    "                'Go','Haskell','Swift','Matlab','Visual Basic','Clojure','Groovy']\n",
    "\n",
    "search_words_lower = ['javascript','java','php','python','c#','c++','ruby','css','c','objective-c','shell','r','pearl','scala',\n",
    "                'haskell','swift','matlab','visual basic','clojure','groovy']\n",
    "\n",
    "occurrences_rdd = rdd.flatMap(lambda line: line.split(\" \")).filter(lambda word: word in search_words).map(lambda word: (word, 1)).reduceByKey(lambda a, b: a + b)\n",
    "occurrences_rdd_lower_1 = rdd.flatMap(lambda line: line.split(\" \")).filter(lambda word: word in search_words_lower).map(lambda word: (word, 1)).reduceByKey(lambda a, b: a + b)\n"
   ]
  },
  {
   "cell_type": "code",
   "execution_count": null,
   "metadata": {},
   "outputs": [
    {
     "data": {
      "text/plain": [
       "[('c++', 1250),\n",
       " ('shell', 70),\n",
       " ('go', 541),\n",
       " ('java', 2553),\n",
       " ('ruby', 322),\n",
       " ('r', 453),\n",
       " ('php', 806),\n",
       " ('haskell', 140),\n",
       " ('c', 1754),\n",
       " ('css', 1891),\n",
       " ('scala', 80),\n",
       " ('objective-c', 344),\n",
       " ('c#', 1650),\n",
       " ('swift', 46),\n",
       " ('pearl', 20),\n",
       " ('javascript', 4303),\n",
       " ('python', 740),\n",
       " ('groovy', 32),\n",
       " ('clojure', 30),\n",
       " ('matlab', 99)]"
      ]
     },
     "execution_count": 161,
     "metadata": {},
     "output_type": "execute_result"
    }
   ],
   "source": [
    "occurrences_rdd_lower_2 = occurrences_rdd.map(lambda x: (x[0].lower(),x[1]))"
   ]
  },
  {
   "cell_type": "code",
   "execution_count": null,
   "metadata": {},
   "outputs": [],
   "source": [
    "final_rdd = occurrences_rdd_lower_2.join(occurrences_rdd_lower_1)"
   ]
  },
  {
   "cell_type": "code",
   "execution_count": null,
   "metadata": {},
   "outputs": [],
   "source": [
    "result_rdd = final_rdd.mapValues(lambda x: sum([i for i in x if i is not None]))"
   ]
  },
  {
   "cell_type": "code",
   "execution_count": null,
   "metadata": {},
   "outputs": [
    {
     "data": {
      "text/plain": [
       "[(5190, 'javascript'),\n",
       " (2670, 'java'),\n",
       " (2223, 'css'),\n",
       " (2112, 'c'),\n",
       " (1666, 'c#'),\n",
       " (1255, 'c++'),\n",
       " (882, 'php'),\n",
       " (835, 'python'),\n",
       " (688, 'r'),\n",
       " (348, 'objective-c'),\n",
       " (329, 'ruby'),\n",
       " (308, 'shell'),\n",
       " (147, 'haskell'),\n",
       " (124, 'matlab'),\n",
       " (81, 'scala'),\n",
       " (76, 'swift'),\n",
       " (35, 'groovy'),\n",
       " (23, 'pearl')]"
      ]
     },
     "execution_count": 164,
     "metadata": {},
     "output_type": "execute_result"
    }
   ],
   "source": [
    "sort_rdd = result_rdd.map(lambda x: (x[1],x[0])).sortByKey(ascending=False)\n",
    "sort_rdd.collect()"
   ]
  },
  {
   "cell_type": "code",
   "execution_count": null,
   "metadata": {},
   "outputs": [],
   "source": [
    "df_rdd = sort_rdd.map(lambda x: (x[1],x[0])).toDF([\"Programing Language\",\"Occurences\"])"
   ]
  },
  {
   "cell_type": "code",
   "execution_count": null,
   "metadata": {},
   "outputs": [
    {
     "name": "stdout",
     "output_type": "stream",
     "text": [
      "+-------------------+----------+\n",
      "|Programing Language|Occurences|\n",
      "+-------------------+----------+\n",
      "|         javascript|      5190|\n",
      "|               java|      2670|\n",
      "|                css|      2223|\n",
      "|                  c|      2112|\n",
      "|                 c#|      1666|\n",
      "|                c++|      1255|\n",
      "|                php|       882|\n",
      "|             python|       835|\n",
      "|                  r|       688|\n",
      "|        objective-c|       348|\n",
      "|               ruby|       329|\n",
      "|              shell|       308|\n",
      "|            haskell|       147|\n",
      "|             matlab|       124|\n",
      "|              scala|        81|\n",
      "|              swift|        76|\n",
      "|             groovy|        35|\n",
      "|              pearl|        23|\n",
      "+-------------------+----------+\n",
      "\n"
     ]
    }
   ],
   "source": [
    "df_rdd.show()"
   ]
  },
  {
   "cell_type": "code",
   "execution_count": null,
   "metadata": {},
   "outputs": [],
   "source": []
  }
 ],
 "metadata": {
  "kernelspec": {
   "display_name": "Python 3",
   "language": "python",
   "name": "python3"
  },
  "language_info": {
   "codemirror_mode": {
    "name": "ipython",
    "version": 3
   },
   "file_extension": ".py",
   "mimetype": "text/x-python",
   "name": "python",
   "nbconvert_exporter": "python",
   "pygments_lexer": "ipython3",
   "version": "3.9.0"
  },
  "orig_nbformat": 4
 },
 "nbformat": 4,
 "nbformat_minor": 2
}

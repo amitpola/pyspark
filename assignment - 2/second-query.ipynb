{
 "cells": [
  {
   "cell_type": "code",
   "execution_count": 1,
   "metadata": {},
   "outputs": [],
   "source": [
    "from pyspark.sql import SparkSession\n",
    "\n",
    "spark = SparkSession.builder.appName('second-query').getOrCreate()\n"
   ]
  },
  {
   "cell_type": "code",
   "execution_count": 2,
   "metadata": {},
   "outputs": [],
   "source": [
    "user_data_columns = ['user-id','item-id','rating','timestamp']\n",
    "user_data_df = spark.read.csv('u.data',sep=\"\\t\")\n",
    "\n",
    "from functools import reduce\n",
    "oldColumns = user_data_df.columns\n",
    "\n",
    "user_data_df = reduce(lambda df,ids: df.withColumnRenamed(oldColumns[ids],user_data_columns[ids]),range(len(oldColumns)),user_data_df)"
   ]
  },
  {
   "cell_type": "code",
   "execution_count": 3,
   "metadata": {},
   "outputs": [],
   "source": [
    "items_df = spark.read.csv('u.item',sep='|')\n",
    "\n",
    "item_old_columns = items_df.columns\n",
    "item_new_columns = ['item-id','movie-title','release-date','video-release-data','IMDB-url','unknown','action','adventure','animation',\"children's\",'comedy','crime','documentary','drama','fantasy','film-noir','horror','musical','mystery','romance','sci-fi','thriller','war','western']\n",
    "\n",
    "\n",
    "items_df = reduce(lambda df,ids: df.withColumnRenamed(item_old_columns[ids],item_new_columns[ids]),range(len(item_old_columns)),items_df)"
   ]
  },
  {
   "cell_type": "code",
   "execution_count": 4,
   "metadata": {},
   "outputs": [],
   "source": [
    "rating_df = items_df.join(user_data_df,on='item-id')"
   ]
  },
  {
   "cell_type": "code",
   "execution_count": 5,
   "metadata": {},
   "outputs": [
    {
     "name": "stdout",
     "output_type": "stream",
     "text": [
      "+-------+--------------------+------------+------------------+--------------------+-------+------+---------+---------+----------+------+-----+-----------+-----+-------+---------+------+-------+-------+-------+------+--------+---+-------+-------+------+---------+\n",
      "|item-id|         movie-title|release-date|video-release-data|            IMDB-url|unknown|action|adventure|animation|children's|comedy|crime|documentary|drama|fantasy|film-noir|horror|musical|mystery|romance|sci-fi|thriller|war|western|user-id|rating|timestamp|\n",
      "+-------+--------------------+------------+------------------+--------------------+-------+------+---------+---------+----------+------+-----+-----------+-----+-------+---------+------+-------+-------+-------+------+--------+---+-------+-------+------+---------+\n",
      "|    242|        Kolya (1996)| 24-Jan-1997|              null|http://us.imdb.co...|      0|     0|        0|        0|         0|     1|    0|          0|    0|      0|        0|     0|      0|      0|      0|     0|       0|  0|      0|    196|     3|881250949|\n",
      "|    302|L.A. Confidential...| 01-Jan-1997|              null|http://us.imdb.co...|      0|     0|        0|        0|         0|     0|    1|          0|    0|      0|        1|     0|      0|      1|      0|     0|       1|  0|      0|    186|     3|891717742|\n",
      "|    377| Heavyweights (1994)| 01-Jan-1994|              null|http://us.imdb.co...|      0|     0|        0|        0|         1|     1|    0|          0|    0|      0|        0|     0|      0|      0|      0|     0|       0|  0|      0|     22|     1|878887116|\n",
      "|     51|Legends of the Fa...| 01-Jan-1994|              null|http://us.imdb.co...|      0|     0|        0|        0|         0|     0|    0|          0|    1|      0|        0|     0|      0|      0|      1|     0|       0|  1|      1|    244|     2|880606923|\n",
      "|    346| Jackie Brown (1997)| 01-Jan-1997|              null|http://us.imdb.co...|      0|     0|        0|        0|         0|     0|    1|          0|    1|      0|        0|     0|      0|      0|      0|     0|       0|  0|      0|    166|     1|886397596|\n",
      "|    474|Dr. Strangelove o...| 01-Jan-1963|              null|http://us.imdb.co...|      0|     0|        0|        0|         0|     0|    0|          0|    0|      0|        0|     0|      0|      0|      0|     1|       0|  1|      0|    298|     4|884182806|\n",
      "|    265|Hunt for Red Octo...| 01-Jan-1990|              null|http://us.imdb.co...|      0|     1|        0|        0|         0|     0|    0|          0|    0|      0|        0|     0|      0|      0|      0|     0|       1|  0|      0|    115|     2|881171488|\n",
      "|    465|Jungle Book, The ...| 01-Jan-1994|              null|http://us.imdb.co...|      0|     0|        1|        0|         1|     0|    0|          0|    0|      0|        0|     0|      0|      0|      1|     0|       0|  0|      0|    253|     5|891628467|\n",
      "|    451|       Grease (1978)| 01-Jan-1978|              null|http://us.imdb.co...|      0|     0|        0|        0|         0|     1|    0|          0|    0|      0|        0|     0|      1|      0|      1|     0|       0|  0|      0|    305|     3|886324817|\n",
      "|     86|Remains of the Da...| 01-Jan-1993|              null|http://us.imdb.co...|      0|     0|        0|        0|         0|     0|    0|          0|    1|      0|        0|     0|      0|      0|      0|     0|       0|  0|      0|      6|     3|883603013|\n",
      "|    257| Men in Black (1997)| 04-Jul-1997|              null|http://us.imdb.co...|      0|     1|        1|        0|         0|     1|    0|          0|    0|      0|        0|     0|      0|      0|      0|     1|       0|  0|      0|     62|     2|879372434|\n",
      "|   1014|Romy and Michele'...| 25-Apr-1997|              null|http://us.imdb.co...|      0|     0|        0|        0|         0|     1|    0|          0|    0|      0|        0|     0|      0|      0|      0|     0|       0|  0|      0|    286|     5|879781125|\n",
      "|    222|Star Trek: First ...| 22-Nov-1996|              null|http://us.imdb.co...|      0|     1|        1|        0|         0|     0|    0|          0|    0|      0|        0|     0|      0|      0|      0|     1|       0|  0|      0|    200|     5|876042340|\n",
      "|     40|To Wong Foo, Than...| 01-Jan-1995|              null|http://us.imdb.co...|      0|     0|        0|        0|         0|     1|    0|          0|    0|      0|        0|     0|      0|      0|      0|     0|       0|  0|      0|    210|     3|891035994|\n",
      "|     29|Batman Forever (1...| 01-Jan-1995|              null|http://us.imdb.co...|      0|     1|        1|        0|         0|     1|    1|          0|    0|      0|        0|     0|      0|      0|      0|     0|       0|  0|      0|    224|     3|888104457|\n",
      "|    785|     Only You (1994)| 01-Jan-1994|              null|http://us.imdb.co...|      0|     0|        0|        0|         0|     1|    0|          0|    0|      0|        0|     0|      0|      0|      1|     0|       0|  0|      0|    303|     3|879485318|\n",
      "|    387|Age of Innocence,...| 01-Jan-1993|              null|http://us.imdb.co...|      0|     0|        0|        0|         0|     0|    0|          0|    1|      0|        0|     0|      0|      0|      0|     0|       0|  0|      0|    122|     5|879270459|\n",
      "|    274|      Sabrina (1995)| 01-Jan-1995|              null|http://us.imdb.co...|      0|     0|        0|        0|         0|     1|    0|          0|    0|      0|        0|     0|      0|      0|      1|     0|       0|  0|      0|    194|     2|879539794|\n",
      "|   1042|   Just Cause (1995)| 01-Jan-1995|              null|http://us.imdb.co...|      0|     0|        0|        0|         0|     0|    0|          0|    0|      0|        0|     0|      0|      1|      0|     0|       1|  0|      0|    291|     4|874834944|\n",
      "|   1184|Endless Summer 2,...| 01-Jan-1994|              null|http://us.imdb.co...|      0|     0|        0|        0|         0|     0|    0|          1|    0|      0|        0|     0|      0|      0|      0|     0|       0|  0|      0|    234|     2|892079237|\n",
      "+-------+--------------------+------------+------------------+--------------------+-------+------+---------+---------+----------+------+-----+-----------+-----+-------+---------+------+-------+-------+-------+------+--------+---+-------+-------+------+---------+\n",
      "only showing top 20 rows\n",
      "\n"
     ]
    }
   ],
   "source": [
    "rating_df.show()"
   ]
  },
  {
   "cell_type": "code",
   "execution_count": 6,
   "metadata": {},
   "outputs": [],
   "source": [
    "rating_df = rating_df.groupBy('item-id','movie-title').agg({'rating':'count'})"
   ]
  },
  {
   "cell_type": "code",
   "execution_count": 7,
   "metadata": {},
   "outputs": [],
   "source": [
    "top_20_names=rating_df.orderBy(rating_df['count(rating)'].desc()).limit(20)"
   ]
  },
  {
   "cell_type": "code",
   "execution_count": 8,
   "metadata": {},
   "outputs": [
    {
     "name": "stdout",
     "output_type": "stream",
     "text": [
      "+-------+--------------------+-------------+\n",
      "|item-id|         movie-title|count(rating)|\n",
      "+-------+--------------------+-------------+\n",
      "|     50|    Star Wars (1977)|          583|\n",
      "|    258|      Contact (1997)|          509|\n",
      "|    100|        Fargo (1996)|          508|\n",
      "|    181|Return of the Jed...|          507|\n",
      "|    294|    Liar Liar (1997)|          485|\n",
      "|    286|English Patient, ...|          481|\n",
      "|    288|       Scream (1996)|          478|\n",
      "|      1|    Toy Story (1995)|          452|\n",
      "|    300|Air Force One (1997)|          431|\n",
      "|    121|Independence Day ...|          429|\n",
      "|    174|Raiders of the Lo...|          420|\n",
      "|    127|Godfather, The (1...|          413|\n",
      "|     56| Pulp Fiction (1994)|          394|\n",
      "|      7|Twelve Monkeys (1...|          392|\n",
      "|     98|Silence of the La...|          390|\n",
      "|    237|Jerry Maguire (1996)|          384|\n",
      "|    117|    Rock, The (1996)|          378|\n",
      "|    172|Empire Strikes Ba...|          367|\n",
      "|    222|Star Trek: First ...|          365|\n",
      "|    204|Back to the Futur...|          350|\n",
      "+-------+--------------------+-------------+\n",
      "\n"
     ]
    }
   ],
   "source": [
    "top_20_names.show()"
   ]
  },
  {
   "cell_type": "code",
   "execution_count": null,
   "metadata": {},
   "outputs": [],
   "source": []
  }
 ],
 "metadata": {
  "kernelspec": {
   "display_name": "Python 3",
   "language": "python",
   "name": "python3"
  },
  "language_info": {
   "codemirror_mode": {
    "name": "ipython",
    "version": 3
   },
   "file_extension": ".py",
   "mimetype": "text/x-python",
   "name": "python",
   "nbconvert_exporter": "python",
   "pygments_lexer": "ipython3",
   "version": "3.10.9"
  },
  "orig_nbformat": 4
 },
 "nbformat": 4,
 "nbformat_minor": 2
}

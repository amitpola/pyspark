{
 "cells": [
  {
   "cell_type": "code",
   "execution_count": 103,
   "metadata": {},
   "outputs": [],
   "source": [
    "from pyspark.sql import SparkSession\n",
    "\n",
    "spark = SparkSession.builder.appName('second-query').getOrCreate()\n"
   ]
  },
  {
   "cell_type": "code",
   "execution_count": 104,
   "metadata": {},
   "outputs": [],
   "source": [
    "user_data_columns = ['user-id','item-id','rating','timestamp']\n",
    "user_data_df = spark.read.csv('u.data',sep=\"\\t\")\n",
    "\n",
    "from functools import reduce\n",
    "oldColumns = user_data_df.columns\n",
    "\n",
    "user_data_df = reduce(lambda df,ids: df.withColumnRenamed(oldColumns[ids],user_data_columns[ids]),range(len(oldColumns)),user_data_df)"
   ]
  },
  {
   "cell_type": "code",
   "execution_count": 105,
   "metadata": {},
   "outputs": [],
   "source": [
    "items_df = spark.read.csv('u.item',sep='|')\n",
    "\n",
    "item_old_columns = items_df.columns\n",
    "item_new_columns = ['item-id','movie-title','release-date','video-release-data','IMDB-url','unknown','action','adventure','animation',\"children's\",'comedy','crime','documentary','drama','fantasy','film-noir','horror','musical','mystery','romance','sci-fi','thriller','war','western']\n",
    "\n",
    "\n",
    "items_df = reduce(lambda df,ids: df.withColumnRenamed(item_old_columns[ids],item_new_columns[ids]),range(len(item_old_columns)),items_df)"
   ]
  },
  {
   "cell_type": "code",
   "execution_count": 106,
   "metadata": {},
   "outputs": [],
   "source": [
    "rating_df = items_df.join(user_data_df,on='item-id')"
   ]
  },
  {
   "cell_type": "code",
   "execution_count": 107,
   "metadata": {},
   "outputs": [
    {
     "name": "stdout",
     "output_type": "stream",
     "text": [
      "+-------+--------------------+------------+------------------+--------------------+-------+------+---------+---------+----------+------+-----+-----------+-----+-------+---------+------+-------+-------+-------+------+--------+---+-------+-------+------+---------+\n",
      "|item-id|         movie-title|release-date|video-release-data|            IMDB-url|unknown|action|adventure|animation|children's|comedy|crime|documentary|drama|fantasy|film-noir|horror|musical|mystery|romance|sci-fi|thriller|war|western|user-id|rating|timestamp|\n",
      "+-------+--------------------+------------+------------------+--------------------+-------+------+---------+---------+----------+------+-----+-----------+-----+-------+---------+------+-------+-------+-------+------+--------+---+-------+-------+------+---------+\n",
      "|    242|        Kolya (1996)| 24-Jan-1997|              null|http://us.imdb.co...|      0|     0|        0|        0|         0|     1|    0|          0|    0|      0|        0|     0|      0|      0|      0|     0|       0|  0|      0|    196|     3|881250949|\n",
      "|    302|L.A. Confidential...| 01-Jan-1997|              null|http://us.imdb.co...|      0|     0|        0|        0|         0|     0|    1|          0|    0|      0|        1|     0|      0|      1|      0|     0|       1|  0|      0|    186|     3|891717742|\n",
      "|    377| Heavyweights (1994)| 01-Jan-1994|              null|http://us.imdb.co...|      0|     0|        0|        0|         1|     1|    0|          0|    0|      0|        0|     0|      0|      0|      0|     0|       0|  0|      0|     22|     1|878887116|\n",
      "|     51|Legends of the Fa...| 01-Jan-1994|              null|http://us.imdb.co...|      0|     0|        0|        0|         0|     0|    0|          0|    1|      0|        0|     0|      0|      0|      1|     0|       0|  1|      1|    244|     2|880606923|\n",
      "|    346| Jackie Brown (1997)| 01-Jan-1997|              null|http://us.imdb.co...|      0|     0|        0|        0|         0|     0|    1|          0|    1|      0|        0|     0|      0|      0|      0|     0|       0|  0|      0|    166|     1|886397596|\n",
      "|    474|Dr. Strangelove o...| 01-Jan-1963|              null|http://us.imdb.co...|      0|     0|        0|        0|         0|     0|    0|          0|    0|      0|        0|     0|      0|      0|      0|     1|       0|  1|      0|    298|     4|884182806|\n",
      "|    265|Hunt for Red Octo...| 01-Jan-1990|              null|http://us.imdb.co...|      0|     1|        0|        0|         0|     0|    0|          0|    0|      0|        0|     0|      0|      0|      0|     0|       1|  0|      0|    115|     2|881171488|\n",
      "|    465|Jungle Book, The ...| 01-Jan-1994|              null|http://us.imdb.co...|      0|     0|        1|        0|         1|     0|    0|          0|    0|      0|        0|     0|      0|      0|      1|     0|       0|  0|      0|    253|     5|891628467|\n",
      "|    451|       Grease (1978)| 01-Jan-1978|              null|http://us.imdb.co...|      0|     0|        0|        0|         0|     1|    0|          0|    0|      0|        0|     0|      1|      0|      1|     0|       0|  0|      0|    305|     3|886324817|\n",
      "|     86|Remains of the Da...| 01-Jan-1993|              null|http://us.imdb.co...|      0|     0|        0|        0|         0|     0|    0|          0|    1|      0|        0|     0|      0|      0|      0|     0|       0|  0|      0|      6|     3|883603013|\n",
      "|    257| Men in Black (1997)| 04-Jul-1997|              null|http://us.imdb.co...|      0|     1|        1|        0|         0|     1|    0|          0|    0|      0|        0|     0|      0|      0|      0|     1|       0|  0|      0|     62|     2|879372434|\n",
      "|   1014|Romy and Michele'...| 25-Apr-1997|              null|http://us.imdb.co...|      0|     0|        0|        0|         0|     1|    0|          0|    0|      0|        0|     0|      0|      0|      0|     0|       0|  0|      0|    286|     5|879781125|\n",
      "|    222|Star Trek: First ...| 22-Nov-1996|              null|http://us.imdb.co...|      0|     1|        1|        0|         0|     0|    0|          0|    0|      0|        0|     0|      0|      0|      0|     1|       0|  0|      0|    200|     5|876042340|\n",
      "|     40|To Wong Foo, Than...| 01-Jan-1995|              null|http://us.imdb.co...|      0|     0|        0|        0|         0|     1|    0|          0|    0|      0|        0|     0|      0|      0|      0|     0|       0|  0|      0|    210|     3|891035994|\n",
      "|     29|Batman Forever (1...| 01-Jan-1995|              null|http://us.imdb.co...|      0|     1|        1|        0|         0|     1|    1|          0|    0|      0|        0|     0|      0|      0|      0|     0|       0|  0|      0|    224|     3|888104457|\n",
      "|    785|     Only You (1994)| 01-Jan-1994|              null|http://us.imdb.co...|      0|     0|        0|        0|         0|     1|    0|          0|    0|      0|        0|     0|      0|      0|      1|     0|       0|  0|      0|    303|     3|879485318|\n",
      "|    387|Age of Innocence,...| 01-Jan-1993|              null|http://us.imdb.co...|      0|     0|        0|        0|         0|     0|    0|          0|    1|      0|        0|     0|      0|      0|      0|     0|       0|  0|      0|    122|     5|879270459|\n",
      "|    274|      Sabrina (1995)| 01-Jan-1995|              null|http://us.imdb.co...|      0|     0|        0|        0|         0|     1|    0|          0|    0|      0|        0|     0|      0|      0|      1|     0|       0|  0|      0|    194|     2|879539794|\n",
      "|   1042|   Just Cause (1995)| 01-Jan-1995|              null|http://us.imdb.co...|      0|     0|        0|        0|         0|     0|    0|          0|    0|      0|        0|     0|      0|      1|      0|     0|       1|  0|      0|    291|     4|874834944|\n",
      "|   1184|Endless Summer 2,...| 01-Jan-1994|              null|http://us.imdb.co...|      0|     0|        0|        0|         0|     0|    0|          1|    0|      0|        0|     0|      0|      0|      0|     0|       0|  0|      0|    234|     2|892079237|\n",
      "+-------+--------------------+------------+------------------+--------------------+-------+------+---------+---------+----------+------+-----+-----------+-----+-------+---------+------+-------+-------+-------+------+--------+---+-------+-------+------+---------+\n",
      "only showing top 20 rows\n",
      "\n"
     ]
    }
   ],
   "source": [
    "rating_df.show()"
   ]
  },
  {
   "cell_type": "code",
   "execution_count": 108,
   "metadata": {},
   "outputs": [
    {
     "name": "stdout",
     "output_type": "stream",
     "text": [
      "+-------+----------------------------------+------------+\n",
      "|item-id|movie-title                       |rating_count|\n",
      "+-------+----------------------------------+------------+\n",
      "|1016   |Con Air (1997)                    |137         |\n",
      "|870    |Touch (1997)                      |9           |\n",
      "|689    |Jackal, The (1997)                |87          |\n",
      "|261    |Air Bud (1997)                    |43          |\n",
      "|388    |Beverly Hills Cop III (1994)      |28          |\n",
      "|1537   |Cosi (1996)                       |4           |\n",
      "|1590   |To Have, or Not (1995)            |2           |\n",
      "|677    |Fire on the Mountain (1996)       |1           |\n",
      "|1365   |Johnny 100 Pesos (1993)           |2           |\n",
      "|1618   |King of New York (1990)           |1           |\n",
      "|508    |People vs. Larry Flynt, The (1996)|215         |\n",
      "|182    |GoodFellas (1990)                 |226         |\n",
      "|669    |Body Parts (1991)                 |13          |\n",
      "|1184   |Endless Summer 2, The (1994)      |10          |\n",
      "|443    |Birds, The (1963)                 |162         |\n",
      "|363    |Sudden Death (1995)               |47          |\n",
      "|754    |Red Corner (1997)                 |57          |\n",
      "|1169   |Fresh (1994)                      |10          |\n",
      "|434    |Forbidden Planet (1956)           |67          |\n",
      "|794    |It Could Happen to You (1994)     |46          |\n",
      "+-------+----------------------------------+------------+\n",
      "only showing top 20 rows\n",
      "\n"
     ]
    }
   ],
   "source": [
    "from pyspark.sql.functions import count, avg, desc\n",
    "\n",
    "rating_count_df = rating_df.groupBy('item-id','movie-title').agg(count(\"*\").alias('rating_count'))\n",
    "rating_count_df.show(truncate=False)"
   ]
  },
  {
   "cell_type": "code",
   "execution_count": 109,
   "metadata": {},
   "outputs": [
    {
     "name": "stdout",
     "output_type": "stream",
     "text": [
      "+-------+--------------------+------------+\n",
      "|item-id|         movie-title|rating_count|\n",
      "+-------+--------------------+------------+\n",
      "|   1016|      Con Air (1997)|         137|\n",
      "|    689|  Jackal, The (1997)|          87|\n",
      "|    261|      Air Bud (1997)|          43|\n",
      "|    508|People vs. Larry ...|         215|\n",
      "|    182|   GoodFellas (1990)|         226|\n",
      "|    443|   Birds, The (1963)|         162|\n",
      "|    363| Sudden Death (1995)|          47|\n",
      "|    754|   Red Corner (1997)|          57|\n",
      "|    434|Forbidden Planet ...|          67|\n",
      "|    794|It Could Happen t...|          46|\n",
      "|    106|   Diabolique (1996)|          71|\n",
      "|    380|Star Trek: Genera...|         116|\n",
      "|   1134|Get on the Bus (1...|          38|\n",
      "|    716|Home for the Holi...|          58|\n",
      "|     60|Three Colors: Blu...|          64|\n",
      "|    654|    Chinatown (1974)|         147|\n",
      "|    276|Leaving Las Vegas...|         298|\n",
      "|    245|Devil's Own, The ...|         240|\n",
      "|    585|   Son in Law (1993)|          39|\n",
      "|     14|  Postino, Il (1994)|         183|\n",
      "+-------+--------------------+------------+\n",
      "only showing top 20 rows\n",
      "\n"
     ]
    }
   ],
   "source": [
    "df_filtered = rating_count_df.filter(\"rating_count>=35\")\n",
    "df_filtered.show()"
   ]
  },
  {
   "cell_type": "code",
   "execution_count": 110,
   "metadata": {},
   "outputs": [
    {
     "name": "stdout",
     "output_type": "stream",
     "text": [
      "+-------+------------------+\n",
      "|item-id|avg(rating)       |\n",
      "+-------+------------------+\n",
      "|1016   |3.45985401459854  |\n",
      "|870    |2.7777777777777777|\n",
      "|689    |3.1494252873563218|\n",
      "|261    |2.558139534883721 |\n",
      "|388    |2.392857142857143 |\n",
      "|1537   |4.0               |\n",
      "|1590   |2.0               |\n",
      "|677    |3.0               |\n",
      "|1365   |1.5               |\n",
      "|1618   |1.0               |\n",
      "|508    |3.5953488372093023|\n",
      "|182    |3.9513274336283186|\n",
      "|669    |1.6153846153846154|\n",
      "|1184   |2.5               |\n",
      "|443    |3.808641975308642 |\n",
      "|363    |2.723404255319149 |\n",
      "|754    |3.3859649122807016|\n",
      "|1169   |4.1               |\n",
      "|434    |3.8358208955223883|\n",
      "|794    |3.652173913043478 |\n",
      "+-------+------------------+\n",
      "only showing top 20 rows\n",
      "\n"
     ]
    }
   ],
   "source": [
    "rating_avg_df = rating_df.groupBy('item-id','movie-title').agg({'rating':'mean'}).alias(\"rating-average\")\n",
    "rating_avg_df = rating_avg_df.drop('movie-title')\n",
    "rating_avg_df.show(truncate=False)"
   ]
  },
  {
   "cell_type": "code",
   "execution_count": 111,
   "metadata": {},
   "outputs": [
    {
     "name": "stdout",
     "output_type": "stream",
     "text": [
      "+-------+--------------------+------------+------------------+\n",
      "|item-id|         movie-title|rating_count|       avg(rating)|\n",
      "+-------+--------------------+------------+------------------+\n",
      "|   1016|      Con Air (1997)|         137|  3.45985401459854|\n",
      "|    689|  Jackal, The (1997)|          87|3.1494252873563218|\n",
      "|    261|      Air Bud (1997)|          43| 2.558139534883721|\n",
      "|    508|People vs. Larry ...|         215|3.5953488372093023|\n",
      "|    182|   GoodFellas (1990)|         226|3.9513274336283186|\n",
      "|    443|   Birds, The (1963)|         162| 3.808641975308642|\n",
      "|    363| Sudden Death (1995)|          47| 2.723404255319149|\n",
      "|    754|   Red Corner (1997)|          57|3.3859649122807016|\n",
      "|    434|Forbidden Planet ...|          67|3.8358208955223883|\n",
      "|    794|It Could Happen t...|          46| 3.652173913043478|\n",
      "|    106|   Diabolique (1996)|          71| 2.887323943661972|\n",
      "|    380|Star Trek: Genera...|         116| 3.336206896551724|\n",
      "|   1134|Get on the Bus (1...|          38|3.3157894736842106|\n",
      "|    716|Home for the Holi...|          58|3.1551724137931036|\n",
      "|     60|Three Colors: Blu...|          64|          4.015625|\n",
      "|    654|    Chinatown (1974)|         147| 4.136054421768708|\n",
      "|    276|Leaving Las Vegas...|         298| 3.697986577181208|\n",
      "|    245|Devil's Own, The ...|         240|3.1083333333333334|\n",
      "|    585|   Son in Law (1993)|          39|2.4871794871794872|\n",
      "|     14|  Postino, Il (1994)|         183|3.9672131147540983|\n",
      "+-------+--------------------+------------+------------------+\n",
      "only showing top 20 rows\n",
      "\n"
     ]
    }
   ],
   "source": [
    "final_join_df = df_filtered.join(rating_avg_df,on='item-id')\n",
    "\n",
    "final_join_df.show()"
   ]
  },
  {
   "cell_type": "code",
   "execution_count": 112,
   "metadata": {},
   "outputs": [],
   "source": [
    "sorted_df = final_join_df.sort(desc('avg(rating)'))"
   ]
  },
  {
   "cell_type": "code",
   "execution_count": 113,
   "metadata": {},
   "outputs": [],
   "source": [
    "top_20_names_df = sorted_df.select('movie-title').limit(20)\n"
   ]
  },
  {
   "cell_type": "code",
   "execution_count": 114,
   "metadata": {},
   "outputs": [
    {
     "name": "stdout",
     "output_type": "stream",
     "text": [
      "+------------------------------------------------------+\n",
      "|movie-title                                           |\n",
      "+------------------------------------------------------+\n",
      "|Close Shave, A (1995)                                 |\n",
      "|Schindler's List (1993)                               |\n",
      "|Wrong Trousers, The (1993)                            |\n",
      "|Casablanca (1942)                                     |\n",
      "|Wallace & Gromit: The Best of Aardman Animation (1996)|\n",
      "|Shawshank Redemption, The (1994)                      |\n",
      "|Rear Window (1954)                                    |\n",
      "|Usual Suspects, The (1995)                            |\n",
      "|Star Wars (1977)                                      |\n",
      "|12 Angry Men (1957)                                   |\n",
      "|Third Man, The (1949)                                 |\n",
      "|Citizen Kane (1941)                                   |\n",
      "|Some Folks Call It a Sling Blade (1993)               |\n",
      "|To Kill a Mockingbird (1962)                          |\n",
      "|One Flew Over the Cuckoo's Nest (1975)                |\n",
      "|Silence of the Lambs, The (1991)                      |\n",
      "|North by Northwest (1959)                             |\n",
      "|Godfather, The (1972)                                 |\n",
      "|Secrets & Lies (1996)                                 |\n",
      "|Good Will Hunting (1997)                              |\n",
      "+------------------------------------------------------+\n",
      "\n"
     ]
    }
   ],
   "source": [
    "top_20_names_df.show(truncate=False)"
   ]
  },
  {
   "cell_type": "code",
   "execution_count": null,
   "metadata": {},
   "outputs": [],
   "source": []
  }
 ],
 "metadata": {
  "kernelspec": {
   "display_name": "Python 3",
   "language": "python",
   "name": "python3"
  },
  "language_info": {
   "codemirror_mode": {
    "name": "ipython",
    "version": 3
   },
   "file_extension": ".py",
   "mimetype": "text/x-python",
   "name": "python",
   "nbconvert_exporter": "python",
   "pygments_lexer": "ipython3",
   "version": "3.9.0"
  },
  "orig_nbformat": 4
 },
 "nbformat": 4,
 "nbformat_minor": 2
}

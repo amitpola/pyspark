{
 "cells": [
  {
   "cell_type": "code",
   "execution_count": 32,
   "metadata": {},
   "outputs": [],
   "source": [
    "from pyspark.sql import SparkSession\n",
    "\n",
    "spark = SparkSession.builder.appName('amit').getOrCreate()"
   ]
  },
  {
   "cell_type": "code",
   "execution_count": 33,
   "metadata": {},
   "outputs": [
    {
     "data": {
      "text/plain": [
       "1682"
      ]
     },
     "execution_count": 33,
     "metadata": {},
     "output_type": "execute_result"
    }
   ],
   "source": [
    "from functools import reduce\n",
    "\n",
    "u_item = spark.read.csv('u.item',sep='|')\n",
    "\n",
    "u_item_old_columns = u_item.columns\n",
    "u_item_new_columns =  ['item-id','movie-title','release-date','video-release-data','IMDB-url','unknown','action','adventure','animation',\"children's\",'comedy','crime','documentary','drama','fantasy','film-noir','horror','musical','mystery','romance','sci-fi','thriller','war','western']\n",
    "\n",
    "u_item = reduce(lambda df,ids: df.withColumnRenamed(u_item_old_columns[ids],u_item_new_columns[ids]),range(len(u_item_old_columns)),u_item)\n",
    "\n",
    "u_item = u_item.drop(*['release-date','video-release-data','IMDB-url'])\n",
    "\n",
    "u_item.count()"
   ]
  },
  {
   "cell_type": "code",
   "execution_count": 34,
   "metadata": {},
   "outputs": [
    {
     "data": {
      "text/plain": [
       "100000"
      ]
     },
     "execution_count": 34,
     "metadata": {},
     "output_type": "execute_result"
    }
   ],
   "source": [
    "u_data = spark.read.csv('u.data',sep='\\t')\n",
    "\n",
    "u_data_old_columns = u_data.columns\n",
    "u_data_new_columns = ['user-id','item-id','rating','timestamp']\n",
    "\n",
    "u_data = reduce(lambda df,ids: df.withColumnRenamed(u_data_old_columns[ids],u_data_new_columns[ids]),range(len(u_data_new_columns)),u_data)\n",
    "\n",
    "u_data = u_data.drop('timestamp')\n",
    "\n",
    "u_data.count()"
   ]
  },
  {
   "cell_type": "code",
   "execution_count": 35,
   "metadata": {},
   "outputs": [
    {
     "name": "stdout",
     "output_type": "stream",
     "text": [
      "+-------+---+-------------+\n",
      "|user-id|age|   occupation|\n",
      "+-------+---+-------------+\n",
      "|      1| 24|   technician|\n",
      "|      2| 53|        other|\n",
      "|      3| 23|       writer|\n",
      "|      4| 24|   technician|\n",
      "|      5| 33|        other|\n",
      "|      6| 42|    executive|\n",
      "|      7| 57|administrator|\n",
      "|      8| 36|administrator|\n",
      "|      9| 29|      student|\n",
      "|     10| 53|       lawyer|\n",
      "|     11| 39|        other|\n",
      "|     12| 28|        other|\n",
      "|     13| 47|     educator|\n",
      "|     14| 45|    scientist|\n",
      "|     15| 49|     educator|\n",
      "|     16| 21|entertainment|\n",
      "|     17| 30|   programmer|\n",
      "|     18| 35|        other|\n",
      "|     19| 40|    librarian|\n",
      "|     20| 42|    homemaker|\n",
      "+-------+---+-------------+\n",
      "only showing top 20 rows\n",
      "\n"
     ]
    }
   ],
   "source": [
    "u_user = spark.read.csv('u.user',sep='|')\n",
    "\n",
    "u_user_old_columns = u_user.columns\n",
    "u_user_new_columns = ['user-id','age','gender','occupation','zip code']\n",
    "\n",
    "u_user = reduce(lambda df,ids: df.withColumnRenamed(u_user_old_columns[ids],u_user_new_columns[ids]),range(len(u_user_old_columns)),u_user)\n",
    "\n",
    "u_user = u_user.drop(*['gender','zip code'])\n",
    "\n",
    "u_user.show()"
   ]
  },
  {
   "cell_type": "code",
   "execution_count": 36,
   "metadata": {},
   "outputs": [
    {
     "name": "stdout",
     "output_type": "stream",
     "text": [
      "+-------+--------------------+-------+------+---------+---------+----------+------+-----+-----------+-----+-------+---------+------+-------+-------+-------+------+--------+---+-------+-------+------+\n",
      "|item-id|         movie-title|unknown|action|adventure|animation|children's|comedy|crime|documentary|drama|fantasy|film-noir|horror|musical|mystery|romance|sci-fi|thriller|war|western|user-id|rating|\n",
      "+-------+--------------------+-------+------+---------+---------+----------+------+-----+-----------+-----+-------+---------+------+-------+-------+-------+------+--------+---+-------+-------+------+\n",
      "|    242|        Kolya (1996)|      0|     0|        0|        0|         0|     1|    0|          0|    0|      0|        0|     0|      0|      0|      0|     0|       0|  0|      0|    196|     3|\n",
      "|    302|L.A. Confidential...|      0|     0|        0|        0|         0|     0|    1|          0|    0|      0|        1|     0|      0|      1|      0|     0|       1|  0|      0|    186|     3|\n",
      "|    377| Heavyweights (1994)|      0|     0|        0|        0|         1|     1|    0|          0|    0|      0|        0|     0|      0|      0|      0|     0|       0|  0|      0|     22|     1|\n",
      "|     51|Legends of the Fa...|      0|     0|        0|        0|         0|     0|    0|          0|    1|      0|        0|     0|      0|      0|      1|     0|       0|  1|      1|    244|     2|\n",
      "|    346| Jackie Brown (1997)|      0|     0|        0|        0|         0|     0|    1|          0|    1|      0|        0|     0|      0|      0|      0|     0|       0|  0|      0|    166|     1|\n",
      "|    474|Dr. Strangelove o...|      0|     0|        0|        0|         0|     0|    0|          0|    0|      0|        0|     0|      0|      0|      0|     1|       0|  1|      0|    298|     4|\n",
      "|    265|Hunt for Red Octo...|      0|     1|        0|        0|         0|     0|    0|          0|    0|      0|        0|     0|      0|      0|      0|     0|       1|  0|      0|    115|     2|\n",
      "|    465|Jungle Book, The ...|      0|     0|        1|        0|         1|     0|    0|          0|    0|      0|        0|     0|      0|      0|      1|     0|       0|  0|      0|    253|     5|\n",
      "|    451|       Grease (1978)|      0|     0|        0|        0|         0|     1|    0|          0|    0|      0|        0|     0|      1|      0|      1|     0|       0|  0|      0|    305|     3|\n",
      "|     86|Remains of the Da...|      0|     0|        0|        0|         0|     0|    0|          0|    1|      0|        0|     0|      0|      0|      0|     0|       0|  0|      0|      6|     3|\n",
      "|    257| Men in Black (1997)|      0|     1|        1|        0|         0|     1|    0|          0|    0|      0|        0|     0|      0|      0|      0|     1|       0|  0|      0|     62|     2|\n",
      "|   1014|Romy and Michele'...|      0|     0|        0|        0|         0|     1|    0|          0|    0|      0|        0|     0|      0|      0|      0|     0|       0|  0|      0|    286|     5|\n",
      "|    222|Star Trek: First ...|      0|     1|        1|        0|         0|     0|    0|          0|    0|      0|        0|     0|      0|      0|      0|     1|       0|  0|      0|    200|     5|\n",
      "|     40|To Wong Foo, Than...|      0|     0|        0|        0|         0|     1|    0|          0|    0|      0|        0|     0|      0|      0|      0|     0|       0|  0|      0|    210|     3|\n",
      "|     29|Batman Forever (1...|      0|     1|        1|        0|         0|     1|    1|          0|    0|      0|        0|     0|      0|      0|      0|     0|       0|  0|      0|    224|     3|\n",
      "|    785|     Only You (1994)|      0|     0|        0|        0|         0|     1|    0|          0|    0|      0|        0|     0|      0|      0|      1|     0|       0|  0|      0|    303|     3|\n",
      "|    387|Age of Innocence,...|      0|     0|        0|        0|         0|     0|    0|          0|    1|      0|        0|     0|      0|      0|      0|     0|       0|  0|      0|    122|     5|\n",
      "|    274|      Sabrina (1995)|      0|     0|        0|        0|         0|     1|    0|          0|    0|      0|        0|     0|      0|      0|      1|     0|       0|  0|      0|    194|     2|\n",
      "|   1042|   Just Cause (1995)|      0|     0|        0|        0|         0|     0|    0|          0|    0|      0|        0|     0|      0|      1|      0|     0|       1|  0|      0|    291|     4|\n",
      "|   1184|Endless Summer 2,...|      0|     0|        0|        0|         0|     0|    0|          1|    0|      0|        0|     0|      0|      0|      0|     0|       0|  0|      0|    234|     2|\n",
      "+-------+--------------------+-------+------+---------+---------+----------+------+-----+-----------+-----+-------+---------+------+-------+-------+-------+------+--------+---+-------+-------+------+\n",
      "only showing top 20 rows\n",
      "\n"
     ]
    }
   ],
   "source": [
    "item_data_join = u_item.join(u_data, on='item-id')\n",
    "item_data_join.show()"
   ]
  },
  {
   "cell_type": "code",
   "execution_count": 37,
   "metadata": {},
   "outputs": [
    {
     "name": "stdout",
     "output_type": "stream",
     "text": [
      "+-------+-------+--------------------+-------+------+---------+---------+----------+------+-----+-----------+-----+-------+---------+------+-------+-------+-------+------+--------+---+-------+------+---+-------------+\n",
      "|user-id|item-id|         movie-title|unknown|action|adventure|animation|children's|comedy|crime|documentary|drama|fantasy|film-noir|horror|musical|mystery|romance|sci-fi|thriller|war|western|rating|age|   occupation|\n",
      "+-------+-------+--------------------+-------+------+---------+---------+----------+------+-----+-----------+-----+-------+---------+------+-------+-------+-------+------+--------+---+-------+------+---+-------------+\n",
      "|    196|    242|        Kolya (1996)|      0|     0|        0|        0|         0|     1|    0|          0|    0|      0|        0|     0|      0|      0|      0|     0|       0|  0|      0|     3| 49|       writer|\n",
      "|    186|    302|L.A. Confidential...|      0|     0|        0|        0|         0|     0|    1|          0|    0|      0|        1|     0|      0|      1|      0|     0|       1|  0|      0|     3| 39|    executive|\n",
      "|     22|    377| Heavyweights (1994)|      0|     0|        0|        0|         1|     1|    0|          0|    0|      0|        0|     0|      0|      0|      0|     0|       0|  0|      0|     1| 25|       writer|\n",
      "|    244|     51|Legends of the Fa...|      0|     0|        0|        0|         0|     0|    0|          0|    1|      0|        0|     0|      0|      0|      1|     0|       0|  1|      1|     2| 28|   technician|\n",
      "|    166|    346| Jackie Brown (1997)|      0|     0|        0|        0|         0|     0|    1|          0|    1|      0|        0|     0|      0|      0|      0|     0|       0|  0|      0|     1| 47|     educator|\n",
      "|    298|    474|Dr. Strangelove o...|      0|     0|        0|        0|         0|     0|    0|          0|    0|      0|        0|     0|      0|      0|      0|     1|       0|  1|      0|     4| 44|    executive|\n",
      "|    115|    265|Hunt for Red Octo...|      0|     1|        0|        0|         0|     0|    0|          0|    0|      0|        0|     0|      0|      0|      0|     0|       1|  0|      0|     2| 31|     engineer|\n",
      "|    253|    465|Jungle Book, The ...|      0|     0|        1|        0|         1|     0|    0|          0|    0|      0|        0|     0|      0|      0|      1|     0|       0|  0|      0|     5| 26|    librarian|\n",
      "|    305|    451|       Grease (1978)|      0|     0|        0|        0|         0|     1|    0|          0|    0|      0|        0|     0|      1|      0|      1|     0|       0|  0|      0|     3| 23|   programmer|\n",
      "|      6|     86|Remains of the Da...|      0|     0|        0|        0|         0|     0|    0|          0|    1|      0|        0|     0|      0|      0|      0|     0|       0|  0|      0|     3| 42|    executive|\n",
      "|     62|    257| Men in Black (1997)|      0|     1|        1|        0|         0|     1|    0|          0|    0|      0|        0|     0|      0|      0|      0|     1|       0|  0|      0|     2| 27|administrator|\n",
      "|    286|   1014|Romy and Michele'...|      0|     0|        0|        0|         0|     1|    0|          0|    0|      0|        0|     0|      0|      0|      0|     0|       0|  0|      0|     5| 27|      student|\n",
      "|    200|    222|Star Trek: First ...|      0|     1|        1|        0|         0|     0|    0|          0|    0|      0|        0|     0|      0|      0|      0|     1|       0|  0|      0|     5| 40|   programmer|\n",
      "|    210|     40|To Wong Foo, Than...|      0|     0|        0|        0|         0|     1|    0|          0|    0|      0|        0|     0|      0|      0|      0|     0|       0|  0|      0|     3| 39|     engineer|\n",
      "|    224|     29|Batman Forever (1...|      0|     1|        1|        0|         0|     1|    1|          0|    0|      0|        0|     0|      0|      0|      0|     0|       0|  0|      0|     3| 31|     educator|\n",
      "|    303|    785|     Only You (1994)|      0|     0|        0|        0|         0|     1|    0|          0|    0|      0|        0|     0|      0|      0|      1|     0|       0|  0|      0|     3| 19|      student|\n",
      "|    122|    387|Age of Innocence,...|      0|     0|        0|        0|         0|     0|    0|          0|    1|      0|        0|     0|      0|      0|      0|     0|       0|  0|      0|     5| 32|       writer|\n",
      "|    194|    274|      Sabrina (1995)|      0|     0|        0|        0|         0|     1|    0|          0|    0|      0|        0|     0|      0|      0|      1|     0|       0|  0|      0|     2| 38|administrator|\n",
      "|    291|   1042|   Just Cause (1995)|      0|     0|        0|        0|         0|     0|    0|          0|    0|      0|        0|     0|      0|      1|      0|     0|       1|  0|      0|     4| 19|      student|\n",
      "|    234|   1184|Endless Summer 2,...|      0|     0|        0|        0|         0|     0|    0|          1|    0|      0|        0|     0|      0|      0|      0|     0|       0|  0|      0|     2| 60|      retired|\n",
      "+-------+-------+--------------------+-------+------+---------+---------+----------+------+-----+-----------+-----+-------+---------+------+-------+-------+-------+------+--------+---+-------+------+---+-------------+\n",
      "only showing top 20 rows\n",
      "\n"
     ]
    },
    {
     "data": {
      "text/plain": [
       "100000"
      ]
     },
     "execution_count": 37,
     "metadata": {},
     "output_type": "execute_result"
    }
   ],
   "source": [
    "final_join = item_data_join.join(u_user, on='user-id')\n",
    "final_join.show()\n",
    "final_join.count()"
   ]
  },
  {
   "cell_type": "code",
   "execution_count": 38,
   "metadata": {},
   "outputs": [],
   "source": [
    "from pyspark.sql.functions import when\n",
    "\n",
    "result_df = final_join.select(\"occupation\",\n",
    "                                when((u_user.age >= 20) & (u_user.age <= 25), \"20-25\")\n",
    "                                .when((u_user.age >= 26) & (u_user.age <= 35), \"26-35\")\n",
    "                                .when((u_user.age >= 36) & (u_user.age <= 45), \"36-45\")\n",
    "                                .otherwise(\"45+\") \n",
    "                                .alias(\"age_group\"),'rating','unknown','action','adventure','animation',\"children's\",'comedy','crime','documentary','drama','fantasy','film-noir','horror','musical','mystery','romance','sci-fi','thriller','war','western')\n"
   ]
  },
  {
   "cell_type": "code",
   "execution_count": 39,
   "metadata": {},
   "outputs": [
    {
     "name": "stdout",
     "output_type": "stream",
     "text": [
      "+-------------+---------+------+-------+------+---------+---------+----------+------+-----+-----------+-----+-------+---------+------+-------+-------+-------+------+--------+---+-------+\n",
      "|   occupation|age_group|rating|unknown|action|adventure|animation|children's|comedy|crime|documentary|drama|fantasy|film-noir|horror|musical|mystery|romance|sci-fi|thriller|war|western|\n",
      "+-------------+---------+------+-------+------+---------+---------+----------+------+-----+-----------+-----+-------+---------+------+-------+-------+-------+------+--------+---+-------+\n",
      "|       writer|      45+|     3|      0|     0|        0|        0|         0|     1|    0|          0|    0|      0|        0|     0|      0|      0|      0|     0|       0|  0|      0|\n",
      "|    executive|    36-45|     3|      0|     0|        0|        0|         0|     0|    1|          0|    0|      0|        1|     0|      0|      1|      0|     0|       1|  0|      0|\n",
      "|       writer|    20-25|     1|      0|     0|        0|        0|         1|     1|    0|          0|    0|      0|        0|     0|      0|      0|      0|     0|       0|  0|      0|\n",
      "|   technician|    26-35|     2|      0|     0|        0|        0|         0|     0|    0|          0|    1|      0|        0|     0|      0|      0|      1|     0|       0|  1|      1|\n",
      "|     educator|      45+|     1|      0|     0|        0|        0|         0|     0|    1|          0|    1|      0|        0|     0|      0|      0|      0|     0|       0|  0|      0|\n",
      "|    executive|    36-45|     4|      0|     0|        0|        0|         0|     0|    0|          0|    0|      0|        0|     0|      0|      0|      0|     1|       0|  1|      0|\n",
      "|     engineer|    26-35|     2|      0|     1|        0|        0|         0|     0|    0|          0|    0|      0|        0|     0|      0|      0|      0|     0|       1|  0|      0|\n",
      "|    librarian|    26-35|     5|      0|     0|        1|        0|         1|     0|    0|          0|    0|      0|        0|     0|      0|      0|      1|     0|       0|  0|      0|\n",
      "|   programmer|    20-25|     3|      0|     0|        0|        0|         0|     1|    0|          0|    0|      0|        0|     0|      1|      0|      1|     0|       0|  0|      0|\n",
      "|    executive|    36-45|     3|      0|     0|        0|        0|         0|     0|    0|          0|    1|      0|        0|     0|      0|      0|      0|     0|       0|  0|      0|\n",
      "|administrator|    26-35|     2|      0|     1|        1|        0|         0|     1|    0|          0|    0|      0|        0|     0|      0|      0|      0|     1|       0|  0|      0|\n",
      "|      student|    26-35|     5|      0|     0|        0|        0|         0|     1|    0|          0|    0|      0|        0|     0|      0|      0|      0|     0|       0|  0|      0|\n",
      "|   programmer|    36-45|     5|      0|     1|        1|        0|         0|     0|    0|          0|    0|      0|        0|     0|      0|      0|      0|     1|       0|  0|      0|\n",
      "|     engineer|    36-45|     3|      0|     0|        0|        0|         0|     1|    0|          0|    0|      0|        0|     0|      0|      0|      0|     0|       0|  0|      0|\n",
      "|     educator|    26-35|     3|      0|     1|        1|        0|         0|     1|    1|          0|    0|      0|        0|     0|      0|      0|      0|     0|       0|  0|      0|\n",
      "|      student|      45+|     3|      0|     0|        0|        0|         0|     1|    0|          0|    0|      0|        0|     0|      0|      0|      1|     0|       0|  0|      0|\n",
      "|       writer|    26-35|     5|      0|     0|        0|        0|         0|     0|    0|          0|    1|      0|        0|     0|      0|      0|      0|     0|       0|  0|      0|\n",
      "|administrator|    36-45|     2|      0|     0|        0|        0|         0|     1|    0|          0|    0|      0|        0|     0|      0|      0|      1|     0|       0|  0|      0|\n",
      "|      student|      45+|     4|      0|     0|        0|        0|         0|     0|    0|          0|    0|      0|        0|     0|      0|      1|      0|     0|       1|  0|      0|\n",
      "|      retired|      45+|     2|      0|     0|        0|        0|         0|     0|    0|          1|    0|      0|        0|     0|      0|      0|      0|     0|       0|  0|      0|\n",
      "+-------------+---------+------+-------+------+---------+---------+----------+------+-----+-----------+-----+-------+---------+------+-------+-------+-------+------+--------+---+-------+\n",
      "only showing top 20 rows\n",
      "\n"
     ]
    }
   ],
   "source": [
    "result_df.show()"
   ]
  },
  {
   "cell_type": "code",
   "execution_count": 40,
   "metadata": {},
   "outputs": [
    {
     "name": "stdout",
     "output_type": "stream",
     "text": [
      "+-------------+---------+------+--------------------+\n",
      "|   occupation|age_group|rating|              genres|\n",
      "+-------------+---------+------+--------------------+\n",
      "|       writer|      45+|     3|            [comedy]|\n",
      "|    executive|    36-45|     3|[crime, film-noir...|\n",
      "|       writer|    20-25|     1|[children's, comedy]|\n",
      "|   technician|    26-35|     2|[drama, romance, ...|\n",
      "|     educator|      45+|     1|      [crime, drama]|\n",
      "|    executive|    36-45|     4|       [sci-fi, war]|\n",
      "|     engineer|    26-35|     2|  [action, thriller]|\n",
      "|    librarian|    26-35|     5|[adventure, child...|\n",
      "|   programmer|    20-25|     3|[comedy, musical,...|\n",
      "|    executive|    36-45|     3|             [drama]|\n",
      "|administrator|    26-35|     2|[action, adventur...|\n",
      "|      student|    26-35|     5|            [comedy]|\n",
      "|   programmer|    36-45|     5|[action, adventur...|\n",
      "|     engineer|    36-45|     3|            [comedy]|\n",
      "|     educator|    26-35|     3|[action, adventur...|\n",
      "|      student|      45+|     3|   [comedy, romance]|\n",
      "|       writer|    26-35|     5|             [drama]|\n",
      "|administrator|    36-45|     2|   [comedy, romance]|\n",
      "|      student|      45+|     4| [mystery, thriller]|\n",
      "|      retired|      45+|     2|       [documentary]|\n",
      "+-------------+---------+------+--------------------+\n",
      "only showing top 20 rows\n",
      "\n"
     ]
    }
   ],
   "source": [
    "from pyspark.sql.functions import array, when, col, array_remove, udf, filter\n",
    "import pyspark.sql.functions as func\n",
    "from pyspark.sql.types import StringType, ArrayType\n",
    "\n",
    "genres_columns = result_df.columns[3:22]\n",
    "\n",
    "genre_array = array([when(col(col_name) == 1, col_name) for col_name in genres_columns])\n",
    "\n",
    "\n",
    "new_df = result_df.withColumn(\"genres\", genre_array).withColumn('genres', func.filter(func.col('genres'), lambda x: x != 'null'))\n",
    "\n",
    "new_df = new_df.drop(*['unknown','action','adventure','animation',\"children's\",'comedy','crime','documentary','drama','fantasy','film-noir','horror','musical','mystery','romance','sci-fi','thriller','war','western','genres_with_ones'])\n",
    "\n",
    "\n",
    "new_df.show()\n"
   ]
  },
  {
   "cell_type": "code",
   "execution_count": 41,
   "metadata": {},
   "outputs": [
    {
     "name": "stdout",
     "output_type": "stream",
     "text": [
      "+----------+---------+------+----------+\n",
      "|occupation|age_group|rating|     genre|\n",
      "+----------+---------+------+----------+\n",
      "|    writer|      45+|     3|    comedy|\n",
      "| executive|    36-45|     3|     crime|\n",
      "| executive|    36-45|     3| film-noir|\n",
      "| executive|    36-45|     3|   mystery|\n",
      "| executive|    36-45|     3|  thriller|\n",
      "|    writer|    20-25|     1|children's|\n",
      "|    writer|    20-25|     1|    comedy|\n",
      "|technician|    26-35|     2|     drama|\n",
      "|technician|    26-35|     2|   romance|\n",
      "|technician|    26-35|     2|       war|\n",
      "|technician|    26-35|     2|   western|\n",
      "|  educator|      45+|     1|     crime|\n",
      "|  educator|      45+|     1|     drama|\n",
      "| executive|    36-45|     4|    sci-fi|\n",
      "| executive|    36-45|     4|       war|\n",
      "|  engineer|    26-35|     2|    action|\n",
      "|  engineer|    26-35|     2|  thriller|\n",
      "| librarian|    26-35|     5| adventure|\n",
      "| librarian|    26-35|     5|children's|\n",
      "| librarian|    26-35|     5|   romance|\n",
      "+----------+---------+------+----------+\n",
      "only showing top 20 rows\n",
      "\n"
     ]
    }
   ],
   "source": [
    "from pyspark.sql.functions import explode\n",
    "\n",
    "new_df_exploded = new_df.select('*', explode(new_df.genres))\n",
    "\n",
    "new_df_exploded = new_df_exploded.withColumnRenamed('col','genre')\n",
    "\n",
    "new_df_exploded = new_df_exploded.drop('genres')\n",
    "new_df_exploded.show()"
   ]
  },
  {
   "cell_type": "code",
   "execution_count": 42,
   "metadata": {},
   "outputs": [],
   "source": [
    "df = new_df_exploded.groupBy('occupation','age_group','genre').agg({'rating':'max'})\n",
    "\n",
    "df = df.drop('max(rating)')"
   ]
  },
  {
   "cell_type": "code",
   "execution_count": 43,
   "metadata": {},
   "outputs": [
    {
     "name": "stdout",
     "output_type": "stream",
     "text": [
      "+-------------+---------+---------+\n",
      "|   occupation|age_group|    genre|\n",
      "+-------------+---------+---------+\n",
      "|   programmer|    26-35|  romance|\n",
      "|    marketing|      45+|   comedy|\n",
      "|       artist|    36-45|   horror|\n",
      "|     educator|    20-25|    drama|\n",
      "|         none|    20-25|  unknown|\n",
      "|    marketing|    26-35|   action|\n",
      "|       artist|      45+| thriller|\n",
      "|    marketing|    36-45|  fantasy|\n",
      "|    homemaker|    26-35|    crime|\n",
      "|        other|    36-45|film-noir|\n",
      "|     salesman|    36-45| thriller|\n",
      "|       writer|    26-35|  unknown|\n",
      "|     educator|    26-35|    crime|\n",
      "|       doctor|    26-35| thriller|\n",
      "|   technician|    26-35|  mystery|\n",
      "|    librarian|    20-25|   horror|\n",
      "|     salesman|    36-45|    drama|\n",
      "|administrator|      45+|    drama|\n",
      "|   programmer|    26-35|  fantasy|\n",
      "|   programmer|      45+|  mystery|\n",
      "+-------------+---------+---------+\n",
      "only showing top 20 rows\n",
      "\n"
     ]
    }
   ],
   "source": [
    "df.show()"
   ]
  },
  {
   "cell_type": "code",
   "execution_count": null,
   "metadata": {},
   "outputs": [],
   "source": []
  }
 ],
 "metadata": {
  "kernelspec": {
   "display_name": "Python 3",
   "language": "python",
   "name": "python3"
  },
  "language_info": {
   "codemirror_mode": {
    "name": "ipython",
    "version": 3
   },
   "file_extension": ".py",
   "mimetype": "text/x-python",
   "name": "python",
   "nbconvert_exporter": "python",
   "pygments_lexer": "ipython3",
   "version": "3.9.0"
  },
  "orig_nbformat": 4
 },
 "nbformat": 4,
 "nbformat_minor": 2
}

{
 "cells": [
  {
   "cell_type": "code",
   "execution_count": 84,
   "metadata": {},
   "outputs": [],
   "source": [
    "from pyspark.sql import SparkSession\n",
    "\n",
    "spark = SparkSession.builder.appName('third-query').getOrCreate()"
   ]
  },
  {
   "cell_type": "code",
   "execution_count": 85,
   "metadata": {},
   "outputs": [],
   "source": [
    "from functools import reduce\n",
    "items_df = spark.read.csv('u.item',sep='|')\n",
    "\n",
    "item_old_columns = items_df.columns\n",
    "item_new_columns = ['item-id','movie-title','release-date','video-release-data','IMDB-url','unknown','action','adventure','animation',\"children's\",'comedy','crime','documentary','drama','fantasy','film-noir','horror','musical','mystery','romance','sci-fi','thriller','war','western']\n",
    "\n",
    "\n",
    "items_df = reduce(lambda df,ids: df.withColumnRenamed(item_old_columns[ids],item_new_columns[ids]),range(len(item_old_columns)),items_df)"
   ]
  },
  {
   "cell_type": "code",
   "execution_count": 86,
   "metadata": {},
   "outputs": [
    {
     "name": "stdout",
     "output_type": "stream",
     "text": [
      "+-------+--------------------+------------+------------------+--------------------+-------+------+---------+---------+----------+------+-----+-----------+-----+-------+---------+------+-------+-------+-------+------+--------+---+-------+\n",
      "|item-id|         movie-title|release-date|video-release-data|            IMDB-url|unknown|action|adventure|animation|children's|comedy|crime|documentary|drama|fantasy|film-noir|horror|musical|mystery|romance|sci-fi|thriller|war|western|\n",
      "+-------+--------------------+------------+------------------+--------------------+-------+------+---------+---------+----------+------+-----+-----------+-----+-------+---------+------+-------+-------+-------+------+--------+---+-------+\n",
      "|      1|    Toy Story (1995)| 01-Jan-1995|              null|http://us.imdb.co...|      0|     0|        0|        1|         1|     1|    0|          0|    0|      0|        0|     0|      0|      0|      0|     0|       0|  0|      0|\n",
      "|      2|    GoldenEye (1995)| 01-Jan-1995|              null|http://us.imdb.co...|      0|     1|        1|        0|         0|     0|    0|          0|    0|      0|        0|     0|      0|      0|      0|     0|       1|  0|      0|\n",
      "|      3|   Four Rooms (1995)| 01-Jan-1995|              null|http://us.imdb.co...|      0|     0|        0|        0|         0|     0|    0|          0|    0|      0|        0|     0|      0|      0|      0|     0|       1|  0|      0|\n",
      "|      4|   Get Shorty (1995)| 01-Jan-1995|              null|http://us.imdb.co...|      0|     1|        0|        0|         0|     1|    0|          0|    1|      0|        0|     0|      0|      0|      0|     0|       0|  0|      0|\n",
      "|      5|      Copycat (1995)| 01-Jan-1995|              null|http://us.imdb.co...|      0|     0|        0|        0|         0|     0|    1|          0|    1|      0|        0|     0|      0|      0|      0|     0|       1|  0|      0|\n",
      "|      6|Shanghai Triad (Y...| 01-Jan-1995|              null|http://us.imdb.co...|      0|     0|        0|        0|         0|     0|    0|          0|    1|      0|        0|     0|      0|      0|      0|     0|       0|  0|      0|\n",
      "|      7|Twelve Monkeys (1...| 01-Jan-1995|              null|http://us.imdb.co...|      0|     0|        0|        0|         0|     0|    0|          0|    1|      0|        0|     0|      0|      0|      0|     1|       0|  0|      0|\n",
      "|      8|         Babe (1995)| 01-Jan-1995|              null|http://us.imdb.co...|      0|     0|        0|        0|         1|     1|    0|          0|    1|      0|        0|     0|      0|      0|      0|     0|       0|  0|      0|\n",
      "|      9|Dead Man Walking ...| 01-Jan-1995|              null|http://us.imdb.co...|      0|     0|        0|        0|         0|     0|    0|          0|    1|      0|        0|     0|      0|      0|      0|     0|       0|  0|      0|\n",
      "|     10|  Richard III (1995)| 22-Jan-1996|              null|http://us.imdb.co...|      0|     0|        0|        0|         0|     0|    0|          0|    1|      0|        0|     0|      0|      0|      0|     0|       0|  1|      0|\n",
      "|     11|Seven (Se7en) (1995)| 01-Jan-1995|              null|http://us.imdb.co...|      0|     0|        0|        0|         0|     0|    1|          0|    0|      0|        0|     0|      0|      0|      0|     0|       1|  0|      0|\n",
      "|     12|Usual Suspects, T...| 14-Aug-1995|              null|http://us.imdb.co...|      0|     0|        0|        0|         0|     0|    1|          0|    0|      0|        0|     0|      0|      0|      0|     0|       1|  0|      0|\n",
      "|     13|Mighty Aphrodite ...| 30-Oct-1995|              null|http://us.imdb.co...|      0|     0|        0|        0|         0|     1|    0|          0|    0|      0|        0|     0|      0|      0|      0|     0|       0|  0|      0|\n",
      "|     14|  Postino, Il (1994)| 01-Jan-1994|              null|http://us.imdb.co...|      0|     0|        0|        0|         0|     0|    0|          0|    1|      0|        0|     0|      0|      0|      1|     0|       0|  0|      0|\n",
      "|     15|Mr. Holland's Opu...| 29-Jan-1996|              null|http://us.imdb.co...|      0|     0|        0|        0|         0|     0|    0|          0|    1|      0|        0|     0|      0|      0|      0|     0|       0|  0|      0|\n",
      "|     16|French Twist (Gaz...| 01-Jan-1995|              null|http://us.imdb.co...|      0|     0|        0|        0|         0|     1|    0|          0|    0|      0|        0|     0|      0|      0|      1|     0|       0|  0|      0|\n",
      "|     17|From Dusk Till Da...| 05-Feb-1996|              null|http://us.imdb.co...|      0|     1|        0|        0|         0|     1|    1|          0|    0|      0|        0|     1|      0|      0|      0|     0|       1|  0|      0|\n",
      "|     18|White Balloon, Th...| 01-Jan-1995|              null|http://us.imdb.co...|      0|     0|        0|        0|         0|     0|    0|          0|    1|      0|        0|     0|      0|      0|      0|     0|       0|  0|      0|\n",
      "|     19|Antonia's Line (1...| 01-Jan-1995|              null|http://us.imdb.co...|      0|     0|        0|        0|         0|     0|    0|          0|    1|      0|        0|     0|      0|      0|      0|     0|       0|  0|      0|\n",
      "|     20|Angels and Insect...| 01-Jan-1995|              null|http://us.imdb.co...|      0|     0|        0|        0|         0|     0|    0|          0|    1|      0|        0|     0|      0|      0|      1|     0|       0|  0|      0|\n",
      "+-------+--------------------+------------+------------------+--------------------+-------+------+---------+---------+----------+------+-----+-----------+-----+-------+---------+------+-------+-------+-------+------+--------+---+-------+\n",
      "only showing top 20 rows\n",
      "\n"
     ]
    }
   ],
   "source": [
    "items_df.show()"
   ]
  },
  {
   "cell_type": "code",
   "execution_count": 87,
   "metadata": {},
   "outputs": [
    {
     "name": "stdout",
     "output_type": "stream",
     "text": [
      "+-------------+\n",
      "|   occupation|\n",
      "+-------------+\n",
      "|administrator|\n",
      "|       artist|\n",
      "|       doctor|\n",
      "|     educator|\n",
      "|     engineer|\n",
      "|entertainment|\n",
      "|    executive|\n",
      "|   healthcare|\n",
      "|    homemaker|\n",
      "|       lawyer|\n",
      "|    librarian|\n",
      "|    marketing|\n",
      "|         none|\n",
      "|        other|\n",
      "|   programmer|\n",
      "|      retired|\n",
      "|     salesman|\n",
      "|    scientist|\n",
      "|      student|\n",
      "|   technician|\n",
      "+-------------+\n",
      "only showing top 20 rows\n",
      "\n"
     ]
    }
   ],
   "source": [
    "occupation_df = spark.read.csv('u.occupation').withColumnRenamed(\"_c0\",'occupation')\n",
    "occupation_df.show()"
   ]
  },
  {
   "cell_type": "code",
   "execution_count": 88,
   "metadata": {},
   "outputs": [],
   "source": [
    "user_columns = ['user-id','age','gender','occupation','zip code']\n",
    "user_df = spark.read.csv('u.user',sep='|')\n",
    "\n",
    "oldColumns = user_df.columns\n",
    "user_df = reduce(lambda user_df, ids: user_df.withColumnRenamed(oldColumns[ids], user_columns[ids]), range(len(oldColumns)), user_df)\n",
    "\n",
    "user_df = user_df.drop('zip code')"
   ]
  },
  {
   "cell_type": "code",
   "execution_count": 89,
   "metadata": {},
   "outputs": [
    {
     "name": "stdout",
     "output_type": "stream",
     "text": [
      "+-------+---+------+-------------+\n",
      "|user-id|age|gender|   occupation|\n",
      "+-------+---+------+-------------+\n",
      "|      1| 24|     M|   technician|\n",
      "|      2| 53|     F|        other|\n",
      "|      3| 23|     M|       writer|\n",
      "|      4| 24|     M|   technician|\n",
      "|      5| 33|     F|        other|\n",
      "|      6| 42|     M|    executive|\n",
      "|      7| 57|     M|administrator|\n",
      "|      8| 36|     M|administrator|\n",
      "|      9| 29|     M|      student|\n",
      "|     10| 53|     M|       lawyer|\n",
      "|     11| 39|     F|        other|\n",
      "|     12| 28|     F|        other|\n",
      "|     13| 47|     M|     educator|\n",
      "|     14| 45|     M|    scientist|\n",
      "|     15| 49|     F|     educator|\n",
      "|     16| 21|     M|entertainment|\n",
      "|     17| 30|     M|   programmer|\n",
      "|     18| 35|     F|        other|\n",
      "|     19| 40|     M|    librarian|\n",
      "|     20| 42|     F|    homemaker|\n",
      "+-------+---+------+-------------+\n",
      "only showing top 20 rows\n",
      "\n"
     ]
    }
   ],
   "source": [
    "user_df.show()"
   ]
  },
  {
   "cell_type": "code",
   "execution_count": 90,
   "metadata": {},
   "outputs": [],
   "source": [
    "user_data_columns = ['user-id','item-id','rating','timestamp']\n",
    "user_data_df = spark.read.csv('u.data',sep=\"\\t\")\n",
    "\n",
    "from functools import reduce\n",
    "oldColumns = user_data_df.columns\n",
    "\n",
    "user_data_df = reduce(lambda df,ids: df.withColumnRenamed(oldColumns[ids],user_data_columns[ids]),range(len(oldColumns)),user_data_df)\n",
    "\n",
    "user_data_df = user_data_df.drop('timestamp')"
   ]
  },
  {
   "cell_type": "code",
   "execution_count": 91,
   "metadata": {},
   "outputs": [
    {
     "name": "stdout",
     "output_type": "stream",
     "text": [
      "+-------+-------+------+\n",
      "|user-id|item-id|rating|\n",
      "+-------+-------+------+\n",
      "|    196|    242|     3|\n",
      "|    186|    302|     3|\n",
      "|     22|    377|     1|\n",
      "|    244|     51|     2|\n",
      "|    166|    346|     1|\n",
      "|    298|    474|     4|\n",
      "|    115|    265|     2|\n",
      "|    253|    465|     5|\n",
      "|    305|    451|     3|\n",
      "|      6|     86|     3|\n",
      "|     62|    257|     2|\n",
      "|    286|   1014|     5|\n",
      "|    200|    222|     5|\n",
      "|    210|     40|     3|\n",
      "|    224|     29|     3|\n",
      "|    303|    785|     3|\n",
      "|    122|    387|     5|\n",
      "|    194|    274|     2|\n",
      "|    291|   1042|     4|\n",
      "|    234|   1184|     2|\n",
      "+-------+-------+------+\n",
      "only showing top 20 rows\n",
      "\n"
     ]
    }
   ],
   "source": [
    "user_data_df.show()"
   ]
  },
  {
   "cell_type": "code",
   "execution_count": 92,
   "metadata": {},
   "outputs": [],
   "source": [
    "user_occ_merge_df = user_df.join(occupation_df,on='occupation')"
   ]
  },
  {
   "cell_type": "code",
   "execution_count": 93,
   "metadata": {},
   "outputs": [
    {
     "name": "stdout",
     "output_type": "stream",
     "text": [
      "+-------------+-------+---+------+\n",
      "|   occupation|user-id|age|gender|\n",
      "+-------------+-------+---+------+\n",
      "|   technician|      1| 24|     M|\n",
      "|        other|      2| 53|     F|\n",
      "|       writer|      3| 23|     M|\n",
      "|   technician|      4| 24|     M|\n",
      "|        other|      5| 33|     F|\n",
      "|    executive|      6| 42|     M|\n",
      "|administrator|      7| 57|     M|\n",
      "|administrator|      8| 36|     M|\n",
      "|      student|      9| 29|     M|\n",
      "|       lawyer|     10| 53|     M|\n",
      "|        other|     11| 39|     F|\n",
      "|        other|     12| 28|     F|\n",
      "|     educator|     13| 47|     M|\n",
      "|    scientist|     14| 45|     M|\n",
      "|     educator|     15| 49|     F|\n",
      "|entertainment|     16| 21|     M|\n",
      "|   programmer|     17| 30|     M|\n",
      "|        other|     18| 35|     F|\n",
      "|    librarian|     19| 40|     M|\n",
      "|    homemaker|     20| 42|     F|\n",
      "+-------------+-------+---+------+\n",
      "only showing top 20 rows\n",
      "\n"
     ]
    }
   ],
   "source": [
    "user_occ_merge_df.show()"
   ]
  },
  {
   "cell_type": "code",
   "execution_count": 94,
   "metadata": {},
   "outputs": [],
   "source": [
    "item_udata_merge_df = items_df.join(user_data_df,on='item-id')\n"
   ]
  },
  {
   "cell_type": "code",
   "execution_count": 95,
   "metadata": {},
   "outputs": [
    {
     "name": "stdout",
     "output_type": "stream",
     "text": [
      "+-------+--------------------+------------+------------------+--------------------+-------+------+---------+---------+----------+------+-----+-----------+-----+-------+---------+------+-------+-------+-------+------+--------+---+-------+-------+------+\n",
      "|item-id|         movie-title|release-date|video-release-data|            IMDB-url|unknown|action|adventure|animation|children's|comedy|crime|documentary|drama|fantasy|film-noir|horror|musical|mystery|romance|sci-fi|thriller|war|western|user-id|rating|\n",
      "+-------+--------------------+------------+------------------+--------------------+-------+------+---------+---------+----------+------+-----+-----------+-----+-------+---------+------+-------+-------+-------+------+--------+---+-------+-------+------+\n",
      "|    242|        Kolya (1996)| 24-Jan-1997|              null|http://us.imdb.co...|      0|     0|        0|        0|         0|     1|    0|          0|    0|      0|        0|     0|      0|      0|      0|     0|       0|  0|      0|    196|     3|\n",
      "|    302|L.A. Confidential...| 01-Jan-1997|              null|http://us.imdb.co...|      0|     0|        0|        0|         0|     0|    1|          0|    0|      0|        1|     0|      0|      1|      0|     0|       1|  0|      0|    186|     3|\n",
      "|    377| Heavyweights (1994)| 01-Jan-1994|              null|http://us.imdb.co...|      0|     0|        0|        0|         1|     1|    0|          0|    0|      0|        0|     0|      0|      0|      0|     0|       0|  0|      0|     22|     1|\n",
      "|     51|Legends of the Fa...| 01-Jan-1994|              null|http://us.imdb.co...|      0|     0|        0|        0|         0|     0|    0|          0|    1|      0|        0|     0|      0|      0|      1|     0|       0|  1|      1|    244|     2|\n",
      "|    346| Jackie Brown (1997)| 01-Jan-1997|              null|http://us.imdb.co...|      0|     0|        0|        0|         0|     0|    1|          0|    1|      0|        0|     0|      0|      0|      0|     0|       0|  0|      0|    166|     1|\n",
      "|    474|Dr. Strangelove o...| 01-Jan-1963|              null|http://us.imdb.co...|      0|     0|        0|        0|         0|     0|    0|          0|    0|      0|        0|     0|      0|      0|      0|     1|       0|  1|      0|    298|     4|\n",
      "|    265|Hunt for Red Octo...| 01-Jan-1990|              null|http://us.imdb.co...|      0|     1|        0|        0|         0|     0|    0|          0|    0|      0|        0|     0|      0|      0|      0|     0|       1|  0|      0|    115|     2|\n",
      "|    465|Jungle Book, The ...| 01-Jan-1994|              null|http://us.imdb.co...|      0|     0|        1|        0|         1|     0|    0|          0|    0|      0|        0|     0|      0|      0|      1|     0|       0|  0|      0|    253|     5|\n",
      "|    451|       Grease (1978)| 01-Jan-1978|              null|http://us.imdb.co...|      0|     0|        0|        0|         0|     1|    0|          0|    0|      0|        0|     0|      1|      0|      1|     0|       0|  0|      0|    305|     3|\n",
      "|     86|Remains of the Da...| 01-Jan-1993|              null|http://us.imdb.co...|      0|     0|        0|        0|         0|     0|    0|          0|    1|      0|        0|     0|      0|      0|      0|     0|       0|  0|      0|      6|     3|\n",
      "|    257| Men in Black (1997)| 04-Jul-1997|              null|http://us.imdb.co...|      0|     1|        1|        0|         0|     1|    0|          0|    0|      0|        0|     0|      0|      0|      0|     1|       0|  0|      0|     62|     2|\n",
      "|   1014|Romy and Michele'...| 25-Apr-1997|              null|http://us.imdb.co...|      0|     0|        0|        0|         0|     1|    0|          0|    0|      0|        0|     0|      0|      0|      0|     0|       0|  0|      0|    286|     5|\n",
      "|    222|Star Trek: First ...| 22-Nov-1996|              null|http://us.imdb.co...|      0|     1|        1|        0|         0|     0|    0|          0|    0|      0|        0|     0|      0|      0|      0|     1|       0|  0|      0|    200|     5|\n",
      "|     40|To Wong Foo, Than...| 01-Jan-1995|              null|http://us.imdb.co...|      0|     0|        0|        0|         0|     1|    0|          0|    0|      0|        0|     0|      0|      0|      0|     0|       0|  0|      0|    210|     3|\n",
      "|     29|Batman Forever (1...| 01-Jan-1995|              null|http://us.imdb.co...|      0|     1|        1|        0|         0|     1|    1|          0|    0|      0|        0|     0|      0|      0|      0|     0|       0|  0|      0|    224|     3|\n",
      "|    785|     Only You (1994)| 01-Jan-1994|              null|http://us.imdb.co...|      0|     0|        0|        0|         0|     1|    0|          0|    0|      0|        0|     0|      0|      0|      1|     0|       0|  0|      0|    303|     3|\n",
      "|    387|Age of Innocence,...| 01-Jan-1993|              null|http://us.imdb.co...|      0|     0|        0|        0|         0|     0|    0|          0|    1|      0|        0|     0|      0|      0|      0|     0|       0|  0|      0|    122|     5|\n",
      "|    274|      Sabrina (1995)| 01-Jan-1995|              null|http://us.imdb.co...|      0|     0|        0|        0|         0|     1|    0|          0|    0|      0|        0|     0|      0|      0|      1|     0|       0|  0|      0|    194|     2|\n",
      "|   1042|   Just Cause (1995)| 01-Jan-1995|              null|http://us.imdb.co...|      0|     0|        0|        0|         0|     0|    0|          0|    0|      0|        0|     0|      0|      1|      0|     0|       1|  0|      0|    291|     4|\n",
      "|   1184|Endless Summer 2,...| 01-Jan-1994|              null|http://us.imdb.co...|      0|     0|        0|        0|         0|     0|    0|          1|    0|      0|        0|     0|      0|      0|      0|     0|       0|  0|      0|    234|     2|\n",
      "+-------+--------------------+------------+------------------+--------------------+-------+------+---------+---------+----------+------+-----+-----------+-----+-------+---------+------+-------+-------+-------+------+--------+---+-------+-------+------+\n",
      "only showing top 20 rows\n",
      "\n"
     ]
    }
   ],
   "source": [
    "item_udata_merge_df.show()"
   ]
  },
  {
   "cell_type": "code",
   "execution_count": 96,
   "metadata": {},
   "outputs": [],
   "source": [
    "final_merge_df = item_udata_merge_df.join(user_occ_merge_df,on='user-id')"
   ]
  },
  {
   "cell_type": "code",
   "execution_count": 97,
   "metadata": {},
   "outputs": [
    {
     "name": "stdout",
     "output_type": "stream",
     "text": [
      "+-------+-------+--------------------+------------+------------------+--------------------+-------+------+---------+---------+----------+------+-----+-----------+-----+-------+---------+------+-------+-------+-------+------+--------+---+-------+------+-------------+---+------+\n",
      "|user-id|item-id|         movie-title|release-date|video-release-data|            IMDB-url|unknown|action|adventure|animation|children's|comedy|crime|documentary|drama|fantasy|film-noir|horror|musical|mystery|romance|sci-fi|thriller|war|western|rating|   occupation|age|gender|\n",
      "+-------+-------+--------------------+------------+------------------+--------------------+-------+------+---------+---------+----------+------+-----+-----------+-----+-------+---------+------+-------+-------+-------+------+--------+---+-------+------+-------------+---+------+\n",
      "|    196|    242|        Kolya (1996)| 24-Jan-1997|              null|http://us.imdb.co...|      0|     0|        0|        0|         0|     1|    0|          0|    0|      0|        0|     0|      0|      0|      0|     0|       0|  0|      0|     3|       writer| 49|     M|\n",
      "|    186|    302|L.A. Confidential...| 01-Jan-1997|              null|http://us.imdb.co...|      0|     0|        0|        0|         0|     0|    1|          0|    0|      0|        1|     0|      0|      1|      0|     0|       1|  0|      0|     3|    executive| 39|     F|\n",
      "|     22|    377| Heavyweights (1994)| 01-Jan-1994|              null|http://us.imdb.co...|      0|     0|        0|        0|         1|     1|    0|          0|    0|      0|        0|     0|      0|      0|      0|     0|       0|  0|      0|     1|       writer| 25|     M|\n",
      "|    244|     51|Legends of the Fa...| 01-Jan-1994|              null|http://us.imdb.co...|      0|     0|        0|        0|         0|     0|    0|          0|    1|      0|        0|     0|      0|      0|      1|     0|       0|  1|      1|     2|   technician| 28|     M|\n",
      "|    166|    346| Jackie Brown (1997)| 01-Jan-1997|              null|http://us.imdb.co...|      0|     0|        0|        0|         0|     0|    1|          0|    1|      0|        0|     0|      0|      0|      0|     0|       0|  0|      0|     1|     educator| 47|     M|\n",
      "|    298|    474|Dr. Strangelove o...| 01-Jan-1963|              null|http://us.imdb.co...|      0|     0|        0|        0|         0|     0|    0|          0|    0|      0|        0|     0|      0|      0|      0|     1|       0|  1|      0|     4|    executive| 44|     M|\n",
      "|    115|    265|Hunt for Red Octo...| 01-Jan-1990|              null|http://us.imdb.co...|      0|     1|        0|        0|         0|     0|    0|          0|    0|      0|        0|     0|      0|      0|      0|     0|       1|  0|      0|     2|     engineer| 31|     M|\n",
      "|    253|    465|Jungle Book, The ...| 01-Jan-1994|              null|http://us.imdb.co...|      0|     0|        1|        0|         1|     0|    0|          0|    0|      0|        0|     0|      0|      0|      1|     0|       0|  0|      0|     5|    librarian| 26|     F|\n",
      "|    305|    451|       Grease (1978)| 01-Jan-1978|              null|http://us.imdb.co...|      0|     0|        0|        0|         0|     1|    0|          0|    0|      0|        0|     0|      1|      0|      1|     0|       0|  0|      0|     3|   programmer| 23|     M|\n",
      "|      6|     86|Remains of the Da...| 01-Jan-1993|              null|http://us.imdb.co...|      0|     0|        0|        0|         0|     0|    0|          0|    1|      0|        0|     0|      0|      0|      0|     0|       0|  0|      0|     3|    executive| 42|     M|\n",
      "|     62|    257| Men in Black (1997)| 04-Jul-1997|              null|http://us.imdb.co...|      0|     1|        1|        0|         0|     1|    0|          0|    0|      0|        0|     0|      0|      0|      0|     1|       0|  0|      0|     2|administrator| 27|     F|\n",
      "|    286|   1014|Romy and Michele'...| 25-Apr-1997|              null|http://us.imdb.co...|      0|     0|        0|        0|         0|     1|    0|          0|    0|      0|        0|     0|      0|      0|      0|     0|       0|  0|      0|     5|      student| 27|     M|\n",
      "|    200|    222|Star Trek: First ...| 22-Nov-1996|              null|http://us.imdb.co...|      0|     1|        1|        0|         0|     0|    0|          0|    0|      0|        0|     0|      0|      0|      0|     1|       0|  0|      0|     5|   programmer| 40|     M|\n",
      "|    210|     40|To Wong Foo, Than...| 01-Jan-1995|              null|http://us.imdb.co...|      0|     0|        0|        0|         0|     1|    0|          0|    0|      0|        0|     0|      0|      0|      0|     0|       0|  0|      0|     3|     engineer| 39|     M|\n",
      "|    224|     29|Batman Forever (1...| 01-Jan-1995|              null|http://us.imdb.co...|      0|     1|        1|        0|         0|     1|    1|          0|    0|      0|        0|     0|      0|      0|      0|     0|       0|  0|      0|     3|     educator| 31|     F|\n",
      "|    303|    785|     Only You (1994)| 01-Jan-1994|              null|http://us.imdb.co...|      0|     0|        0|        0|         0|     1|    0|          0|    0|      0|        0|     0|      0|      0|      1|     0|       0|  0|      0|     3|      student| 19|     M|\n",
      "|    122|    387|Age of Innocence,...| 01-Jan-1993|              null|http://us.imdb.co...|      0|     0|        0|        0|         0|     0|    0|          0|    1|      0|        0|     0|      0|      0|      0|     0|       0|  0|      0|     5|       writer| 32|     F|\n",
      "|    194|    274|      Sabrina (1995)| 01-Jan-1995|              null|http://us.imdb.co...|      0|     0|        0|        0|         0|     1|    0|          0|    0|      0|        0|     0|      0|      0|      1|     0|       0|  0|      0|     2|administrator| 38|     M|\n",
      "|    291|   1042|   Just Cause (1995)| 01-Jan-1995|              null|http://us.imdb.co...|      0|     0|        0|        0|         0|     0|    0|          0|    0|      0|        0|     0|      0|      1|      0|     0|       1|  0|      0|     4|      student| 19|     M|\n",
      "|    234|   1184|Endless Summer 2,...| 01-Jan-1994|              null|http://us.imdb.co...|      0|     0|        0|        0|         0|     0|    0|          1|    0|      0|        0|     0|      0|      0|      0|     0|       0|  0|      0|     2|      retired| 60|     M|\n",
      "+-------+-------+--------------------+------------+------------------+--------------------+-------+------+---------+---------+----------+------+-----+-----------+-----+-------+---------+------+-------+-------+-------+------+--------+---+-------+------+-------------+---+------+\n",
      "only showing top 20 rows\n",
      "\n"
     ]
    }
   ],
   "source": [
    "final_merge_df.show()"
   ]
  },
  {
   "cell_type": "code",
   "execution_count": 98,
   "metadata": {},
   "outputs": [],
   "source": [
    "from pyspark.sql.functions import when\n",
    "\n",
    "result_df = final_merge_df.select(\"occupation\",\n",
    "                                when((user_df.age >= 20) & (user_df.age <= 25), \"20-25\")\n",
    "                                .when((user_df.age >= 26) & (user_df.age <= 35), \"26-35\")\n",
    "                                .when((user_df.age >= 36) & (user_df.age <= 45), \"36-45\")\n",
    "                                .otherwise(\"45+\") \n",
    "                                .alias(\"age_group\"),'unknown','action','adventure','animation',\"children's\",'comedy','crime','documentary','drama','fantasy','film-noir','horror','musical','mystery','romance','sci-fi','thriller','war','western','rating')"
   ]
  },
  {
   "cell_type": "code",
   "execution_count": 99,
   "metadata": {},
   "outputs": [
    {
     "name": "stdout",
     "output_type": "stream",
     "text": [
      "+-------------+---------+-------+------+---------+---------+----------+------+-----+-----------+-----+-------+---------+------+-------+-------+-------+------+--------+---+-------+------+\n",
      "|   occupation|age_group|unknown|action|adventure|animation|children's|comedy|crime|documentary|drama|fantasy|film-noir|horror|musical|mystery|romance|sci-fi|thriller|war|western|rating|\n",
      "+-------------+---------+-------+------+---------+---------+----------+------+-----+-----------+-----+-------+---------+------+-------+-------+-------+------+--------+---+-------+------+\n",
      "|       writer|      45+|      0|     0|        0|        0|         0|     1|    0|          0|    0|      0|        0|     0|      0|      0|      0|     0|       0|  0|      0|     3|\n",
      "|    executive|    36-45|      0|     0|        0|        0|         0|     0|    1|          0|    0|      0|        1|     0|      0|      1|      0|     0|       1|  0|      0|     3|\n",
      "|       writer|    20-25|      0|     0|        0|        0|         1|     1|    0|          0|    0|      0|        0|     0|      0|      0|      0|     0|       0|  0|      0|     1|\n",
      "|   technician|    26-35|      0|     0|        0|        0|         0|     0|    0|          0|    1|      0|        0|     0|      0|      0|      1|     0|       0|  1|      1|     2|\n",
      "|     educator|      45+|      0|     0|        0|        0|         0|     0|    1|          0|    1|      0|        0|     0|      0|      0|      0|     0|       0|  0|      0|     1|\n",
      "|    executive|    36-45|      0|     0|        0|        0|         0|     0|    0|          0|    0|      0|        0|     0|      0|      0|      0|     1|       0|  1|      0|     4|\n",
      "|     engineer|    26-35|      0|     1|        0|        0|         0|     0|    0|          0|    0|      0|        0|     0|      0|      0|      0|     0|       1|  0|      0|     2|\n",
      "|    librarian|    26-35|      0|     0|        1|        0|         1|     0|    0|          0|    0|      0|        0|     0|      0|      0|      1|     0|       0|  0|      0|     5|\n",
      "|   programmer|    20-25|      0|     0|        0|        0|         0|     1|    0|          0|    0|      0|        0|     0|      1|      0|      1|     0|       0|  0|      0|     3|\n",
      "|    executive|    36-45|      0|     0|        0|        0|         0|     0|    0|          0|    1|      0|        0|     0|      0|      0|      0|     0|       0|  0|      0|     3|\n",
      "|administrator|    26-35|      0|     1|        1|        0|         0|     1|    0|          0|    0|      0|        0|     0|      0|      0|      0|     1|       0|  0|      0|     2|\n",
      "|      student|    26-35|      0|     0|        0|        0|         0|     1|    0|          0|    0|      0|        0|     0|      0|      0|      0|     0|       0|  0|      0|     5|\n",
      "|   programmer|    36-45|      0|     1|        1|        0|         0|     0|    0|          0|    0|      0|        0|     0|      0|      0|      0|     1|       0|  0|      0|     5|\n",
      "|     engineer|    36-45|      0|     0|        0|        0|         0|     1|    0|          0|    0|      0|        0|     0|      0|      0|      0|     0|       0|  0|      0|     3|\n",
      "|     educator|    26-35|      0|     1|        1|        0|         0|     1|    1|          0|    0|      0|        0|     0|      0|      0|      0|     0|       0|  0|      0|     3|\n",
      "|      student|      45+|      0|     0|        0|        0|         0|     1|    0|          0|    0|      0|        0|     0|      0|      0|      1|     0|       0|  0|      0|     3|\n",
      "|       writer|    26-35|      0|     0|        0|        0|         0|     0|    0|          0|    1|      0|        0|     0|      0|      0|      0|     0|       0|  0|      0|     5|\n",
      "|administrator|    36-45|      0|     0|        0|        0|         0|     1|    0|          0|    0|      0|        0|     0|      0|      0|      1|     0|       0|  0|      0|     2|\n",
      "|      student|      45+|      0|     0|        0|        0|         0|     0|    0|          0|    0|      0|        0|     0|      0|      1|      0|     0|       1|  0|      0|     4|\n",
      "|      retired|      45+|      0|     0|        0|        0|         0|     0|    0|          1|    0|      0|        0|     0|      0|      0|      0|     0|       0|  0|      0|     2|\n",
      "+-------------+---------+-------+------+---------+---------+----------+------+-----+-----------+-----+-------+---------+------+-------+-------+-------+------+--------+---+-------+------+\n",
      "only showing top 20 rows\n",
      "\n"
     ]
    }
   ],
   "source": [
    "result_df.show()"
   ]
  },
  {
   "cell_type": "code",
   "execution_count": 100,
   "metadata": {},
   "outputs": [],
   "source": [
    "result_df=result_df.groupBy('occupation','age_group','unknown','action','adventure','animation',\"children's\",'comedy','crime','documentary','drama','fantasy','film-noir','horror','musical','mystery','romance','sci-fi','thriller','war','western','rating').agg({'rating':'count'})"
   ]
  },
  {
   "cell_type": "code",
   "execution_count": 101,
   "metadata": {},
   "outputs": [
    {
     "name": "stdout",
     "output_type": "stream",
     "text": [
      "+-------------+---------+-------+------+---------+---------+----------+------+-----+-----------+-----+-------+---------+------+-------+-------+-------+------+--------+---+-------+------+-------------+\n",
      "|   occupation|age_group|unknown|action|adventure|animation|children's|comedy|crime|documentary|drama|fantasy|film-noir|horror|musical|mystery|romance|sci-fi|thriller|war|western|rating|count(rating)|\n",
      "+-------------+---------+-------+------+---------+---------+----------+------+-----+-----------+-----+-------+---------+------+-------+-------+-------+------+--------+---+-------+------+-------------+\n",
      "|   technician|    26-35|      0|     1|        0|        0|         0|     0|    0|          0|    0|      0|        0|     0|      0|      0|      0|     1|       1|  0|      0|     5|           10|\n",
      "|administrator|      45+|      0|     0|        0|        0|         0|     0|    0|          0|    0|      0|        0|     0|      0|      1|      0|     0|       1|  0|      0|     4|           15|\n",
      "|   programmer|    26-35|      0|     0|        0|        0|         0|     1|    0|          0|    0|      0|        0|     0|      0|      0|      0|     0|       0|  0|      0|     4|          137|\n",
      "|      student|    26-35|      0|     0|        0|        0|         0|     0|    0|          0|    1|      0|        0|     0|      0|      0|      0|     0|       0|  1|      0|     4|           30|\n",
      "|    executive|    26-35|      0|     1|        1|        0|         0|     0|    0|          0|    0|      0|        0|     0|      0|      0|      0|     0|       1|  0|      0|     1|            4|\n",
      "|entertainment|    26-35|      0|     1|        0|        0|         0|     0|    0|          0|    0|      0|        0|     0|      0|      0|      0|     0|       1|  0|      0|     1|            2|\n",
      "|   programmer|    36-45|      0|     1|        0|        0|         0|     0|    0|          0|    1|      0|        0|     0|      0|      0|      1|     0|       0|  0|      0|     5|            4|\n",
      "|    librarian|    26-35|      0|     1|        1|        0|         0|     0|    0|          0|    0|      0|        0|     0|      0|      0|      0|     1|       0|  0|      0|     2|            5|\n",
      "|    marketing|    26-35|      0|     0|        0|        0|         0|     0|    1|          0|    1|      0|        0|     0|      0|      1|      0|     0|       0|  0|      0|     2|            1|\n",
      "|      student|      45+|      0|     1|        1|        0|         0|     0|    0|          0|    0|      0|        0|     0|      0|      1|      0|     0|       0|  0|      0|     5|            3|\n",
      "|entertainment|    26-35|      0|     0|        0|        0|         0|     1|    0|          0|    1|      0|        0|     0|      0|      0|      1|     0|       0|  0|      0|     2|            2|\n",
      "|entertainment|    26-35|      0|     0|        0|        0|         0|     0|    0|          0|    0|      0|        0|     0|      0|      0|      0|     0|       0|  0|      1|     5|            2|\n",
      "|administrator|    36-45|      0|     0|        0|        0|         0|     0|    0|          0|    0|      0|        1|     0|      0|      1|      0|     0|       1|  0|      0|     5|            4|\n",
      "|     engineer|    20-25|      0|     0|        0|        0|         0|     0|    0|          0|    0|      0|        0|     0|      0|      1|      0|     0|       0|  0|      0|     3|            1|\n",
      "|   programmer|      45+|      0|     1|        0|        0|         0|     0|    0|          0|    0|      0|        0|     0|      0|      0|      0|     1|       1|  0|      0|     4|            4|\n",
      "|        other|      45+|      0|     0|        0|        0|         0|     0|    1|          0|    0|      0|        0|     0|      0|      0|      0|     0|       0|  0|      0|     2|            1|\n",
      "|    librarian|    26-35|      0|     1|        1|        0|         0|     0|    0|          0|    0|      0|        0|     0|      0|      0|      0|     0|       0|  0|      0|     3|           10|\n",
      "|       lawyer|    26-35|      0|     0|        0|        0|         0|     0|    0|          0|    0|      0|        0|     0|      0|      0|      0|     0|       0|  0|      1|     5|            4|\n",
      "|     educator|    36-45|      0|     0|        0|        0|         0|     1|    0|          0|    0|      0|        0|     0|      0|      0|      1|     0|       1|  0|      0|     1|            1|\n",
      "|        other|      45+|      0|     0|        0|        0|         0|     0|    0|          0|    1|      0|        0|     0|      0|      0|      0|     0|       0|  1|      0|     4|           17|\n",
      "+-------------+---------+-------+------+---------+---------+----------+------+-----+-----------+-----+-------+---------+------+-------+-------+-------+------+--------+---+-------+------+-------------+\n",
      "only showing top 20 rows\n",
      "\n"
     ]
    }
   ],
   "source": [
    "result_df.show()"
   ]
  },
  {
   "cell_type": "code",
   "execution_count": 102,
   "metadata": {},
   "outputs": [],
   "source": [
    "result_df = result_df.orderBy(result_df['occupation'].asc(),result_df['age_group'].asc(),result_df['count(rating)'].desc())"
   ]
  },
  {
   "cell_type": "code",
   "execution_count": 103,
   "metadata": {},
   "outputs": [
    {
     "name": "stdout",
     "output_type": "stream",
     "text": [
      "+-------------+---------+-------+------+---------+---------+----------+------+-----+-----------+-----+-------+---------+------+-------+-------+-------+------+--------+---+-------+------+-------------+\n",
      "|   occupation|age_group|unknown|action|adventure|animation|children's|comedy|crime|documentary|drama|fantasy|film-noir|horror|musical|mystery|romance|sci-fi|thriller|war|western|rating|count(rating)|\n",
      "+-------------+---------+-------+------+---------+---------+----------+------+-----+-----------+-----+-------+---------+------+-------+-------+-------+------+--------+---+-------+------+-------------+\n",
      "|administrator|    20-25|      0|     0|        0|        0|         0|     0|    0|          0|    1|      0|        0|     0|      0|      0|      0|     0|       0|  0|      0|     4|           20|\n",
      "|administrator|    20-25|      0|     0|        0|        0|         0|     1|    0|          0|    0|      0|        0|     0|      0|      0|      0|     0|       0|  0|      0|     3|           19|\n",
      "|administrator|    20-25|      0|     0|        0|        0|         0|     0|    0|          0|    1|      0|        0|     0|      0|      0|      0|     0|       0|  0|      0|     5|           16|\n",
      "|administrator|    20-25|      0|     0|        0|        0|         0|     1|    0|          0|    0|      0|        0|     0|      0|      0|      0|     0|       0|  0|      0|     4|           15|\n",
      "|administrator|    20-25|      0|     0|        0|        0|         0|     1|    0|          0|    0|      0|        0|     0|      0|      0|      1|     0|       0|  0|      0|     4|           13|\n",
      "|administrator|    20-25|      0|     0|        0|        0|         0|     1|    0|          0|    0|      0|        0|     0|      0|      0|      0|     0|       0|  0|      0|     5|           11|\n",
      "|administrator|    20-25|      0|     0|        0|        0|         0|     0|    0|          0|    1|      0|        0|     0|      0|      0|      0|     0|       0|  0|      0|     3|           10|\n",
      "|administrator|    20-25|      0|     0|        0|        0|         0|     1|    0|          0|    0|      0|        0|     0|      0|      0|      1|     0|       0|  0|      0|     3|           10|\n",
      "|administrator|    20-25|      0|     1|        0|        0|         0|     0|    0|          0|    0|      0|        0|     0|      0|      0|      0|     0|       1|  0|      0|     3|            9|\n",
      "|administrator|    20-25|      0|     0|        0|        0|         0|     1|    0|          0|    0|      0|        0|     0|      0|      0|      0|     0|       0|  0|      0|     2|            9|\n",
      "|administrator|    20-25|      0|     0|        0|        0|         0|     0|    0|          0|    1|      0|        0|     0|      0|      0|      1|     0|       0|  0|      0|     4|            8|\n",
      "|administrator|    20-25|      0|     0|        0|        0|         0|     1|    0|          0|    0|      0|        0|     0|      0|      0|      0|     0|       0|  0|      0|     1|            7|\n",
      "|administrator|    20-25|      0|     0|        0|        0|         0|     0|    0|          0|    1|      0|        0|     0|      0|      0|      0|     0|       1|  0|      0|     5|            7|\n",
      "|administrator|    20-25|      0|     1|        0|        0|         0|     0|    0|          0|    0|      0|        0|     0|      0|      0|      0|     0|       1|  0|      0|     4|            7|\n",
      "|administrator|    20-25|      0|     0|        0|        0|         0|     0|    0|          0|    1|      0|        0|     0|      0|      0|      1|     0|       0|  0|      0|     5|            7|\n",
      "|administrator|    20-25|      0|     0|        0|        1|         1|     0|    0|          0|    0|      0|        0|     0|      1|      0|      0|     0|       0|  0|      0|     4|            7|\n",
      "|administrator|    20-25|      0|     1|        0|        0|         0|     0|    0|          0|    0|      0|        0|     0|      0|      0|      0|     0|       1|  0|      0|     5|            6|\n",
      "|administrator|    20-25|      0|     1|        0|        0|         0|     0|    0|          0|    0|      0|        0|     0|      0|      0|      0|     0|       1|  0|      0|     2|            6|\n",
      "|administrator|    20-25|      0|     1|        1|        0|         0|     0|    0|          0|    0|      0|        0|     0|      0|      0|      0|     0|       0|  0|      0|     4|            5|\n",
      "|administrator|    20-25|      0|     1|        1|        0|         0|     0|    0|          0|    0|      0|        0|     0|      0|      0|      0|     1|       0|  0|      0|     4|            5|\n",
      "+-------------+---------+-------+------+---------+---------+----------+------+-----+-----------+-----+-------+---------+------+-------+-------+-------+------+--------+---+-------+------+-------------+\n",
      "only showing top 20 rows\n",
      "\n"
     ]
    }
   ],
   "source": [
    "result_df.show()"
   ]
  },
  {
   "cell_type": "code",
   "execution_count": null,
   "metadata": {},
   "outputs": [],
   "source": []
  }
 ],
 "metadata": {
  "kernelspec": {
   "display_name": "Python 3",
   "language": "python",
   "name": "python3"
  },
  "language_info": {
   "codemirror_mode": {
    "name": "ipython",
    "version": 3
   },
   "file_extension": ".py",
   "mimetype": "text/x-python",
   "name": "python",
   "nbconvert_exporter": "python",
   "pygments_lexer": "ipython3",
   "version": "3.10.9"
  },
  "orig_nbformat": 4
 },
 "nbformat": 4,
 "nbformat_minor": 2
}

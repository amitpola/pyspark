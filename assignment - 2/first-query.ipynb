{
 "cells": [
  {
   "cell_type": "code",
   "execution_count": 1,
   "metadata": {},
   "outputs": [],
   "source": [
    "from pyspark.sql import SparkSession\n",
    "\n",
    "spark = SparkSession.builder.appName(\"first-query\").getOrCreate()\n"
   ]
  },
  {
   "cell_type": "code",
   "execution_count": 2,
   "metadata": {},
   "outputs": [],
   "source": [
    "user_columns = ['user-id','age','gender','occupation','zip code']\n",
    "user_df = spark.read.csv('u.user',sep='|')"
   ]
  },
  {
   "cell_type": "code",
   "execution_count": 3,
   "metadata": {},
   "outputs": [],
   "source": [
    "from functools import reduce\n",
    "\n",
    "oldColumns = user_df.columns\n",
    "user_df = reduce(lambda user_df, ids: user_df.withColumnRenamed(oldColumns[ids], user_columns[ids]), range(len(oldColumns)), user_df)"
   ]
  },
  {
   "cell_type": "code",
   "execution_count": 4,
   "metadata": {},
   "outputs": [
    {
     "name": "stdout",
     "output_type": "stream",
     "text": [
      "+-------+---+------+-------------+--------+\n",
      "|user-id|age|gender|   occupation|zip code|\n",
      "+-------+---+------+-------------+--------+\n",
      "|      1| 24|     M|   technician|   85711|\n",
      "|      2| 53|     F|        other|   94043|\n",
      "|      3| 23|     M|       writer|   32067|\n",
      "|      4| 24|     M|   technician|   43537|\n",
      "|      5| 33|     F|        other|   15213|\n",
      "|      6| 42|     M|    executive|   98101|\n",
      "|      7| 57|     M|administrator|   91344|\n",
      "|      8| 36|     M|administrator|   05201|\n",
      "|      9| 29|     M|      student|   01002|\n",
      "|     10| 53|     M|       lawyer|   90703|\n",
      "|     11| 39|     F|        other|   30329|\n",
      "|     12| 28|     F|        other|   06405|\n",
      "|     13| 47|     M|     educator|   29206|\n",
      "|     14| 45|     M|    scientist|   55106|\n",
      "|     15| 49|     F|     educator|   97301|\n",
      "|     16| 21|     M|entertainment|   10309|\n",
      "|     17| 30|     M|   programmer|   06355|\n",
      "|     18| 35|     F|        other|   37212|\n",
      "|     19| 40|     M|    librarian|   02138|\n",
      "|     20| 42|     F|    homemaker|   95660|\n",
      "+-------+---+------+-------------+--------+\n",
      "only showing top 20 rows\n",
      "\n"
     ]
    }
   ],
   "source": [
    "user_df.show()"
   ]
  },
  {
   "cell_type": "code",
   "execution_count": 5,
   "metadata": {},
   "outputs": [],
   "source": [
    "occupation_df = spark.read.csv('u.occupation').withColumnRenamed(\"_c0\",'occupation')"
   ]
  },
  {
   "cell_type": "code",
   "execution_count": 6,
   "metadata": {},
   "outputs": [
    {
     "name": "stdout",
     "output_type": "stream",
     "text": [
      "+-------------+\n",
      "|   occupation|\n",
      "+-------------+\n",
      "|administrator|\n",
      "|       artist|\n",
      "|       doctor|\n",
      "|     educator|\n",
      "|     engineer|\n",
      "|entertainment|\n",
      "|    executive|\n",
      "|   healthcare|\n",
      "|    homemaker|\n",
      "|       lawyer|\n",
      "|    librarian|\n",
      "|    marketing|\n",
      "|         none|\n",
      "|        other|\n",
      "|   programmer|\n",
      "|      retired|\n",
      "|     salesman|\n",
      "|    scientist|\n",
      "|      student|\n",
      "|   technician|\n",
      "+-------------+\n",
      "only showing top 20 rows\n",
      "\n"
     ]
    }
   ],
   "source": [
    "occupation_df.show()"
   ]
  },
  {
   "cell_type": "code",
   "execution_count": 7,
   "metadata": {},
   "outputs": [],
   "source": [
    "merged_df = user_df.join(occupation_df,on='occupation')"
   ]
  },
  {
   "cell_type": "code",
   "execution_count": 8,
   "metadata": {},
   "outputs": [
    {
     "name": "stdout",
     "output_type": "stream",
     "text": [
      "+-------------+-------+---+------+--------+\n",
      "|   occupation|user-id|age|gender|zip code|\n",
      "+-------------+-------+---+------+--------+\n",
      "|   technician|      1| 24|     M|   85711|\n",
      "|        other|      2| 53|     F|   94043|\n",
      "|       writer|      3| 23|     M|   32067|\n",
      "|   technician|      4| 24|     M|   43537|\n",
      "|        other|      5| 33|     F|   15213|\n",
      "|    executive|      6| 42|     M|   98101|\n",
      "|administrator|      7| 57|     M|   91344|\n",
      "|administrator|      8| 36|     M|   05201|\n",
      "|      student|      9| 29|     M|   01002|\n",
      "|       lawyer|     10| 53|     M|   90703|\n",
      "|        other|     11| 39|     F|   30329|\n",
      "|        other|     12| 28|     F|   06405|\n",
      "|     educator|     13| 47|     M|   29206|\n",
      "|    scientist|     14| 45|     M|   55106|\n",
      "|     educator|     15| 49|     F|   97301|\n",
      "|entertainment|     16| 21|     M|   10309|\n",
      "|   programmer|     17| 30|     M|   06355|\n",
      "|        other|     18| 35|     F|   37212|\n",
      "|    librarian|     19| 40|     M|   02138|\n",
      "|    homemaker|     20| 42|     F|   95660|\n",
      "+-------------+-------+---+------+--------+\n",
      "only showing top 20 rows\n",
      "\n"
     ]
    }
   ],
   "source": [
    "merged_df.show()"
   ]
  },
  {
   "cell_type": "code",
   "execution_count": 9,
   "metadata": {},
   "outputs": [],
   "source": [
    "mean_age_df = merged_df.groupBy('occupation').agg({'age':'mean'})"
   ]
  },
  {
   "cell_type": "code",
   "execution_count": 10,
   "metadata": {},
   "outputs": [
    {
     "name": "stdout",
     "output_type": "stream",
     "text": [
      "+-------------+------------------+\n",
      "|   occupation|          avg(age)|\n",
      "+-------------+------------------+\n",
      "|    librarian|              40.0|\n",
      "|      retired| 63.07142857142857|\n",
      "|       lawyer|             36.75|\n",
      "|         none|26.555555555555557|\n",
      "|       writer| 36.31111111111111|\n",
      "|   programmer|33.121212121212125|\n",
      "|    marketing| 37.61538461538461|\n",
      "|        other|34.523809523809526|\n",
      "|    executive|          38.71875|\n",
      "|    scientist| 35.54838709677419|\n",
      "|      student|22.081632653061224|\n",
      "|     salesman|35.666666666666664|\n",
      "|       artist|31.392857142857142|\n",
      "|   technician|33.148148148148145|\n",
      "|administrator| 38.74683544303797|\n",
      "|     engineer| 36.38805970149254|\n",
      "|   healthcare|           41.5625|\n",
      "|     educator| 42.01052631578948|\n",
      "|entertainment| 29.22222222222222|\n",
      "|    homemaker| 32.57142857142857|\n",
      "+-------------+------------------+\n",
      "only showing top 20 rows\n",
      "\n"
     ]
    }
   ],
   "source": [
    "mean_age_df.show()"
   ]
  },
  {
   "cell_type": "code",
   "execution_count": null,
   "metadata": {},
   "outputs": [],
   "source": []
  }
 ],
 "metadata": {
  "kernelspec": {
   "display_name": "Python 3",
   "language": "python",
   "name": "python3"
  },
  "language_info": {
   "codemirror_mode": {
    "name": "ipython",
    "version": 3
   },
   "file_extension": ".py",
   "mimetype": "text/x-python",
   "name": "python",
   "nbconvert_exporter": "python",
   "pygments_lexer": "ipython3",
   "version": "3.10.9"
  },
  "orig_nbformat": 4
 },
 "nbformat": 4,
 "nbformat_minor": 2
}
